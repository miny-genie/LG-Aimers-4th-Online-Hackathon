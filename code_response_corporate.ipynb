{
 "cells": [
  {
   "cell_type": "markdown",
   "id": "a244f948",
   "metadata": {
    "cell_marker": "\"\"\""
   },
   "source": [
    "# Import Dataset and Libraries"
   ]
  },
  {
   "cell_type": "code",
   "execution_count": 164,
   "id": "c67d3f9c",
   "metadata": {},
   "outputs": [
    {
     "data": {
      "text/plain": [
       "0"
      ]
     },
     "execution_count": 164,
     "metadata": {},
     "output_type": "execute_result"
    }
   ],
   "source": [
    "import os\n",
    "\n",
    "packages = [\"imbalanced-learn\", \"catboost\", \"pycountry\"]\n",
    "os.system(\" && \".join([f\"pip install {package}\" for package in packages]))"
   ]
  },
  {
   "cell_type": "code",
   "execution_count": 190,
   "id": "ca527f4f",
   "metadata": {},
   "outputs": [],
   "source": [
    "import numpy as np\n",
    "import pandas as pd\n",
    "\n",
    "RANDOM_STATE = 42\n",
    "TRAIN_FILE = \"./train.csv\"\n",
    "TEST_FILE = \"./test.csv\""
   ]
  },
  {
   "cell_type": "code",
   "execution_count": 191,
   "id": "091c9a8d",
   "metadata": {},
   "outputs": [],
   "source": [
    "df_train = pd.read_csv(TRAIN_FILE)\n",
    "df_test = pd.read_csv(TEST_FILE)\n",
    "df_submission = pd.read_csv(TEST_FILE)"
   ]
  },
  {
   "cell_type": "code",
   "execution_count": 192,
   "id": "a7b49922",
   "metadata": {},
   "outputs": [],
   "source": [
    "X, y = df_train.drop(\"is_converted\", axis=1), df_train[\"is_converted\"]\n",
    "X_test = df_test.drop([\"is_converted\", \"id\"], axis=1)"
   ]
  },
  {
   "cell_type": "markdown",
   "id": "fb09f604",
   "metadata": {
    "cell_marker": "\"\"\""
   },
   "source": [
    "# Data Preprocessing"
   ]
  },
  {
   "cell_type": "markdown",
   "id": "175ced81",
   "metadata": {
    "cell_marker": "\"\"\""
   },
   "source": [
    "## 1. Data Imputation"
   ]
  },
  {
   "cell_type": "code",
   "execution_count": 193,
   "id": "4f62f248",
   "metadata": {},
   "outputs": [],
   "source": [
    "values = {\n",
    "    **{column: 0 for column in X.columns},\n",
    "    \"inquiry_type\": \"Quotation or Purchase Consultation\",\n",
    "    \"customer_country\": \"Not Found\",\n",
    "    \"historical_existing_cnt\": X[\"historical_existing_cnt\"].mode()[0],\n",
    "}\n",
    "\n",
    "X.fillna(value=values, inplace=True)\n",
    "X_test.fillna(value=values, inplace=True)"
   ]
  },
  {
   "cell_type": "markdown",
   "id": "44080d12",
   "metadata": {
    "cell_marker": "\"\"\""
   },
   "source": [
    "## 2. Data Cleaning "
   ]
  },
  {
   "cell_type": "markdown",
   "id": "09705e36",
   "metadata": {
    "cell_marker": "\"\"\""
   },
   "source": [
    "### Feature: Customer Country"
   ]
  },
  {
   "cell_type": "code",
   "execution_count": 194,
   "id": "829f86ef",
   "metadata": {},
   "outputs": [],
   "source": [
    "import pycountry\n",
    "\n",
    "\n",
    "def preprocess_country(country):\n",
    "    if not isinstance(country, str):\n",
    "        return \"Not Found\"\n",
    "\n",
    "    country = country.split(\"/\")[-1].strip()\n",
    "    country = pycountry.countries.get(name=country)\n",
    "    return \"Not Found\" if country is None else country.alpha_3\n",
    "\n",
    "\n",
    "X[\"customer_country\"] = [\n",
    "    preprocess_country(country) for country in X[\"customer_country\"]\n",
    "]\n",
    "\n",
    "X_test[\"customer_country\"] = [\n",
    "    preprocess_country(country) for country in X_test[\"customer_country\"]\n",
    "]"
   ]
  },
  {
   "cell_type": "markdown",
   "id": "98dc2431",
   "metadata": {
    "cell_marker": "\"\"\""
   },
   "source": [
    "### Feature: Business Unit (\"business_unit\")"
   ]
  },
  {
   "cell_type": "code",
   "execution_count": 195,
   "id": "660e79e0",
   "metadata": {},
   "outputs": [],
   "source": [
    "X[\"business_unit\"] = X[\"business_unit\"].astype(\n",
    "    pd.CategoricalDtype(categories=[\"ID\", \"AS\", \"IT\", \"Solution\", \"CM\"])\n",
    ")\n",
    "X_test[\"business_unit\"] = X_test[\"business_unit\"].astype(\n",
    "    pd.CategoricalDtype(categories=[\"ID\", \"AS\", \"IT\", \"Solution\", \"CM\"])\n",
    ")"
   ]
  },
  {
   "cell_type": "markdown",
   "id": "29a5a362",
   "metadata": {
    "cell_marker": "\"\"\""
   },
   "source": [
    "### Feature: Inquiry Type (\"inquiry_type\")"
   ]
  },
  {
   "cell_type": "code",
   "execution_count": 196,
   "id": "c978ddc3",
   "metadata": {},
   "outputs": [],
   "source": [
    "inquiry_type_remap = {\n",
    "    # Quotation: Asking about the product itself.\n",
    "    \"Q\": [\n",
    "        \"Quotation or Purchase Consultation\",\n",
    "        \"Quotation or purchase consultation\",\n",
    "        \"Quotation or Purchase consultation\",\n",
    "        \"quotation_or_purchase_consultation\",\n",
    "        \"Purchase or Quotation\",\n",
    "        \"Purchase\",\n",
    "        \"Request for quotation or purchase\",\n",
    "        \"Sales Inquiry\",\n",
    "        \"sales\",\n",
    "        \"quotation_\",\n",
    "    ],\n",
    "    # Usage: Asking about how to use the product.\n",
    "    \"U\": [\n",
    "        \"Usage or Technical Consultation\",\n",
    "        \"Usage or technical consultation\",\n",
    "        \"usage or technical consultation\",\n",
    "        \"usage_or_technical_consultation\",\n",
    "        \"Technical Consultation\",\n",
    "        \"Technical Support\",\n",
    "        \"technical\",\n",
    "        \"technical_consultation\",\n",
    "        \"Request for technical consulting\",\n",
    "        \"Product Information\",\n",
    "        \"i want to know the details about it\",\n",
    "        \"first Info and pricing\",\n",
    "        \"Toi muon tim hieu thong tin ky thuat, gia ca cua sp de su dung\",\n",
    "        \"tôi cần tham khảo giá và giải pháp từ LG\",\n",
    "        \"Trainings\",\n",
    "    ],\n",
    "    \"O\": [\n",
    "        \"Other\",\n",
    "        \"Others\",\n",
    "        \"other_\",\n",
    "        \"other\",\n",
    "        \"others\",\n",
    "        \"Etc.\",\n",
    "        \"ETC.\",\n",
    "        \"Not specified\",\n",
    "        \"(Select ID_Needs)\",\n",
    "        \"IDB\",\n",
    "        \"Services\",\n",
    "        \"Request for Partnership\",\n",
    "        \"Request a Demo\",\n",
    "        \"Request for Distributorship\",\n",
    "        \"Customer Suggestions\",\n",
    "        *(\n",
    "            df_train[\"inquiry_type\"]\n",
    "            .value_counts()\n",
    "            .loc[df_train[\"inquiry_type\"].value_counts() < 10]\n",
    "            .index.tolist()\n",
    "        ),\n",
    "    ],\n",
    "}\n",
    "\n",
    "for key, value in inquiry_type_remap.items():\n",
    "    X.loc[X[\"inquiry_type\"].isin(value), \"inquiry_type\"] = key\n",
    "    X_test.loc[X_test[\"inquiry_type\"].isin(value), \"inquiry_type\"] = key"
   ]
  },
  {
   "cell_type": "markdown",
   "id": "5a4f746d",
   "metadata": {
    "cell_marker": "\"\"\""
   },
   "source": [
    "## 3. Feature Engineering"
   ]
  },
  {
   "cell_type": "code",
   "execution_count": null,
   "id": "dbe7e6ae",
   "metadata": {},
   "outputs": [],
   "source": []
  },
  {
   "cell_type": "code",
   "execution_count": null,
   "id": "b278f624",
   "metadata": {},
   "outputs": [],
   "source": []
  },
  {
   "cell_type": "code",
   "execution_count": 197,
   "id": "29508b0c",
   "metadata": {},
   "outputs": [],
   "source": [
    "country_frequency = X[\"customer_country\"].value_counts(normalize=True)\n",
    "X[\"customer_country_frequency\"] = X[\"customer_country\"].map(country_frequency)\n",
    "X_test[\"customer_country_frequency\"] = X_test[\"customer_country\"].map(country_frequency)\n",
    "\n",
    "country_target = (\n",
    "    pd.concat([X, y], axis=1).groupby(\"customer_country\")[\"is_converted\"].mean()\n",
    ")\n",
    "X[\"customer_country_target\"] = X[\"customer_country\"].map(country_target)\n",
    "X_test[\"customer_country_target\"] = X_test[\"customer_country\"].map(country_target)\n",
    "\n",
    "owner_frequency = X[\"lead_owner\"].value_counts(normalize=True)\n",
    "X[\"lead_owner_frequency\"] = X[\"lead_owner\"].map(owner_frequency)\n",
    "X_test[\"lead_owner_frequency\"] = X_test[\"lead_owner\"].map(owner_frequency)\n",
    "\n",
    "owner_target = pd.concat([X, y], axis=1).groupby(\"lead_owner\")[\"is_converted\"].mean()\n",
    "X[\"lead_owner_target\"] = X[\"lead_owner\"].map(owner_target)\n",
    "X_test[\"lead_owner_target\"] = X_test[\"lead_owner\"].map(owner_target)\n"
   ]
  },
  {
   "cell_type": "code",
   "execution_count": 198,
   "id": "56c6a583",
   "metadata": {},
   "outputs": [],
   "source": [
    "def label_encoding(series: pd.Series) -> pd.Series:\n",
    "    my_dict = {}\n",
    "\n",
    "    # 모든 요소를 문자열로 변환\n",
    "    series = series.astype(str)\n",
    "\n",
    "    for idx, value in enumerate(sorted(series.unique())):\n",
    "        my_dict[value] = idx\n",
    "    series = series.map(my_dict)\n",
    "\n",
    "    return series\n",
    "\n",
    "def categorize(num):\n",
    "    if num > 4000:\n",
    "        return 'converted_high'\n",
    "    elif num > 288:\n",
    "        return 'converted_middle'\n",
    "    else:\n",
    "        return 'converted_low'"
   ]
  },
  {
   "cell_type": "code",
   "execution_count": 199,
   "id": "18d7d5f4",
   "metadata": {},
   "outputs": [],
   "source": [
    "converted_counts = X.groupby('response_corporate').size().to_dict()\n",
    "X['corporate_corporate_num'] = X['response_corporate'].map(converted_counts).fillna(0).astype(int)\n",
    "X['corporate_converted_category'] = X['corporate_corporate_num'].apply(categorize)\n",
    "\n",
    "converted_counts = X_test.groupby('response_corporate').size().to_dict()\n",
    "X_test['corporate_corporate_num'] = X_test['response_corporate'].map(converted_counts).fillna(0).astype(int)\n",
    "X_test['corporate_converted_category'] = X_test['corporate_corporate_num'].apply(categorize)\n"
   ]
  },
  {
   "cell_type": "code",
   "execution_count": 200,
   "id": "fcb0e9df",
   "metadata": {},
   "outputs": [],
   "source": [
    "X['category'] = label_encoding(X[\"corporate_converted_category\"])\n",
    "X_test['category'] = label_encoding(X_test[\"corporate_converted_category\"])"
   ]
  },
  {
   "cell_type": "code",
   "execution_count": 201,
   "id": "d8274c09",
   "metadata": {},
   "outputs": [],
   "source": [
    "del X['corporate_converted_category']\n",
    "del X_test['corporate_converted_category']"
   ]
  },
  {
   "cell_type": "code",
   "execution_count": 202,
   "id": "4c3524d8",
   "metadata": {},
   "outputs": [
    {
     "data": {
      "text/plain": [
       "Index(['bant_submit', 'customer_country', 'business_unit',\n",
       "       'com_reg_ver_win_rate', 'customer_idx', 'customer_type', 'enterprise',\n",
       "       'historical_existing_cnt', 'id_strategic_ver', 'it_strategic_ver',\n",
       "       'idit_strategic_ver', 'customer_job', 'lead_desc_length',\n",
       "       'inquiry_type', 'product_category', 'product_subcategory',\n",
       "       'product_modelname', 'customer_country.1', 'customer_position',\n",
       "       'response_corporate', 'expected_timeline', 'ver_cus', 'ver_pro',\n",
       "       'ver_win_rate_x', 'ver_win_ratio_per_bu', 'business_area',\n",
       "       'business_subarea', 'lead_owner', 'customer_country_frequency',\n",
       "       'customer_country_target', 'lead_owner_frequency', 'lead_owner_target',\n",
       "       'corporate_corporate_num', 'category'],\n",
       "      dtype='object')"
      ]
     },
     "execution_count": 202,
     "metadata": {},
     "output_type": "execute_result"
    }
   ],
   "source": [
    "X.columns"
   ]
  },
  {
   "cell_type": "markdown",
   "id": "c8815fe4",
   "metadata": {
    "cell_marker": "\"\"\""
   },
   "source": [
    "## 4. Feature Encoding"
   ]
  },
  {
   "cell_type": "code",
   "execution_count": 203,
   "id": "2a062c8c",
   "metadata": {},
   "outputs": [],
   "source": [
    "def encode_features(\n",
    "    df: pd.DataFrame,\n",
    "    features=[\"enterprise\", \"business_unit\", \"inquiry_type\", \"bant_submit\"],\n",
    ") -> pd.DataFrame:\n",
    "    df_encoded = pd.get_dummies(df[features], columns=features)\n",
    "    df_encoded = df_encoded.apply(lambda x: x.astype(\"category\").cat.codes)\n",
    "    df = pd.concat([df, df_encoded], axis=1).drop(features, axis=1)\n",
    "    return df\n",
    "\n",
    "\n",
    "X = encode_features(X)\n",
    "X_test = encode_features(X_test)"
   ]
  },
  {
   "cell_type": "code",
   "execution_count": 204,
   "id": "afad2704",
   "metadata": {},
   "outputs": [],
   "source": [
    "def label_encoding(series: pd.Series) -> pd.Series:\n",
    "    my_dict = {}\n",
    "\n",
    "    # 모든 요소를 문자열로 변환\n",
    "    series = series.astype(str)\n",
    "\n",
    "    for idx, value in enumerate(sorted(series.unique())):\n",
    "        my_dict[value] = idx\n",
    "    series = series.map(my_dict)\n",
    "\n",
    "    return series"
   ]
  },
  {
   "cell_type": "markdown",
   "id": "a87de62e",
   "metadata": {
    "cell_marker": "\"\"\""
   },
   "source": [
    "## 5. Feature Normalization"
   ]
  },
  {
   "cell_type": "code",
   "execution_count": 205,
   "id": "46a2a26c",
   "metadata": {},
   "outputs": [],
   "source": [
    "from sklearn.compose import ColumnTransformer\n",
    "from sklearn.pipeline import Pipeline\n",
    "from sklearn.preprocessing import StandardScaler\n",
    "\n",
    "standard_transformer = Pipeline(steps=[(\"standardize\", StandardScaler())])\n",
    "column_transformer = ColumnTransformer(\n",
    "    transformers=[\n",
    "        (\"std\", standard_transformer, [\"lead_desc_length\", \"historical_existing_cnt\"]),\n",
    "    ],\n",
    "    verbose_feature_names_out=False,\n",
    "    remainder=\"passthrough\",\n",
    ")\n",
    "column_transformer.set_output(transform=\"pandas\")\n",
    "\n",
    "X = column_transformer.fit_transform(X)\n",
    "X_test = column_transformer.transform(X_test)"
   ]
  },
  {
   "cell_type": "markdown",
   "id": "2f70ab22",
   "metadata": {
    "cell_marker": "\"\"\""
   },
   "source": [
    "## 6. Outlier Removal"
   ]
  },
  {
   "cell_type": "markdown",
   "id": "7ccc5c6b",
   "metadata": {
    "cell_marker": "\"\"\""
   },
   "source": [
    "## 7. Feature Removal"
   ]
  },
  {
   "cell_type": "code",
   "execution_count": 206,
   "id": "dc2552ab",
   "metadata": {},
   "outputs": [],
   "source": [
    "features_to_drop = [\n",
    "    \"customer_country\",\n",
    "    \"business_subarea\",\n",
    "    \"business_area\",\n",
    "    \"customer_idx\",\n",
    "    \"product_category\",\n",
    "    \"product_subcategory\",\n",
    "    \"product_modelname\",\n",
    "    \"response_corporate\",\n",
    "    \"customer_country.1\",\n",
    "    \"customer_position\",\n",
    "    \"customer_job\",\n",
    "    \"customer_type\",\n",
    "    \"expected_timeline\",\n",
    "    \"lead_owner\",\n",
    "    \"corporate_corporate_num\"\n",
    "]\n",
    "\n",
    "X = X.drop(features_to_drop, axis=1)  # type: ignore\n",
    "X_test = X_test.drop(features_to_drop, axis=1)  # type: ignore"
   ]
  },
  {
   "cell_type": "code",
   "execution_count": 207,
   "id": "afe87987",
   "metadata": {},
   "outputs": [
    {
     "data": {
      "text/plain": [
       "['lead_desc_length',\n",
       " 'historical_existing_cnt',\n",
       " 'com_reg_ver_win_rate',\n",
       " 'id_strategic_ver',\n",
       " 'it_strategic_ver',\n",
       " 'idit_strategic_ver',\n",
       " 'ver_cus',\n",
       " 'ver_pro',\n",
       " 'ver_win_rate_x',\n",
       " 'ver_win_ratio_per_bu',\n",
       " 'customer_country_frequency',\n",
       " 'customer_country_target',\n",
       " 'lead_owner_frequency',\n",
       " 'lead_owner_target',\n",
       " 'category',\n",
       " 'enterprise_Enterprise',\n",
       " 'enterprise_SMB',\n",
       " 'business_unit_ID',\n",
       " 'business_unit_AS',\n",
       " 'business_unit_IT',\n",
       " 'business_unit_Solution',\n",
       " 'business_unit_CM',\n",
       " 'inquiry_type_O',\n",
       " 'inquiry_type_Q',\n",
       " 'inquiry_type_U',\n",
       " 'bant_submit_0.0',\n",
       " 'bant_submit_0.25',\n",
       " 'bant_submit_0.5',\n",
       " 'bant_submit_0.75',\n",
       " 'bant_submit_1.0']"
      ]
     },
     "execution_count": 207,
     "metadata": {},
     "output_type": "execute_result"
    }
   ],
   "source": [
    "X.columns.tolist()"
   ]
  },
  {
   "cell_type": "markdown",
   "id": "bf9e1d69",
   "metadata": {
    "cell_marker": "\"\"\""
   },
   "source": [
    "# Modeling"
   ]
  },
  {
   "cell_type": "code",
   "execution_count": 208,
   "id": "acfcc25a",
   "metadata": {},
   "outputs": [],
   "source": [
    "from catboost import CatBoostClassifier\n",
    "\n",
    "model = CatBoostClassifier(random_state=RANDOM_STATE, verbose=False)"
   ]
  },
  {
   "cell_type": "markdown",
   "id": "57174baa",
   "metadata": {
    "cell_marker": "\"\"\""
   },
   "source": [
    "# K-Fold Cross Validation"
   ]
  },
  {
   "cell_type": "code",
   "execution_count": 209,
   "id": "8ca1622b",
   "metadata": {},
   "outputs": [
    {
     "name": "stdout",
     "output_type": "stream",
     "text": [
      "Accuracy (Fold 0): 0.9391231028667791\n",
      "Precision (Fold 0): 0.6001615508885298\n",
      "Recall (Fold 0): 0.765979381443299\n",
      "F1-Score (Fold 0): 0.6730072463768116\n",
      "ROC-AUC Score (Fold 0): 0.9667662567568847\n",
      "\n",
      "Accuracy (Fold 1): 0.94106239460371\n",
      "Precision (Fold 1): 0.6056118472330475\n",
      "Recall (Fold 1): 0.8010309278350516\n",
      "F1-Score (Fold 1): 0.6897470039946738\n",
      "ROC-AUC Score (Fold 1): 0.9711095490992399\n",
      "\n",
      "Accuracy (Fold 2): 0.9365092748735244\n",
      "Precision (Fold 2): 0.5810306198655714\n",
      "Recall (Fold 2): 0.8020618556701031\n",
      "F1-Score (Fold 2): 0.6738847986141187\n",
      "ROC-AUC Score (Fold 2): 0.9664257855026366\n",
      "\n",
      "Accuracy (Fold 3): 0.9392074198988195\n",
      "Precision (Fold 3): 0.5968871595330739\n",
      "Recall (Fold 3): 0.790721649484536\n",
      "F1-Score (Fold 3): 0.6802660753880266\n",
      "ROC-AUC Score (Fold 3): 0.9678598544015602\n",
      "\n",
      "Accuracy (Fold 4): 0.9395395901846699\n",
      "Precision (Fold 4): 0.5993715632364494\n",
      "Recall (Fold 4): 0.7865979381443299\n",
      "F1-Score (Fold 4): 0.6803388319215337\n",
      "ROC-AUC Score (Fold 4): 0.9649714125576458\n",
      "\n",
      "Cross-Validation Average F1-Score: 0.6794487912590329\n"
     ]
    }
   ],
   "source": [
    "from imblearn.over_sampling import SMOTE\n",
    "from sklearn.metrics import (accuracy_score, f1_score, precision_score,\n",
    "                             recall_score, roc_auc_score)\n",
    "from sklearn.model_selection import StratifiedKFold\n",
    "\n",
    "kfolds, scores = (\n",
    "    StratifiedKFold(n_splits=5, random_state=RANDOM_STATE, shuffle=True),\n",
    "    [],\n",
    ")\n",
    "\n",
    "for fold_idx, (train_idx, val_idx) in enumerate(kfolds.split(X, y)):\n",
    "    X_train, y_train = X.iloc[train_idx], y.iloc[train_idx]\n",
    "    X_val, y_val = X.iloc[val_idx], y.iloc[val_idx]\n",
    "\n",
    "    sm = SMOTE(sampling_strategy=\"minority\", random_state=RANDOM_STATE)\n",
    "    X_train, y_train = sm.fit_resample(X_train, y_train)  # type: ignore\n",
    "\n",
    "    model.fit(X_train, y_train)\n",
    "    prediction = model.predict(X_val)\n",
    "    prediction = np.where(prediction == \"True\", True, False)\n",
    "\n",
    "    print(f\"Accuracy (Fold {fold_idx}): {accuracy_score(y_val, prediction)}\")\n",
    "    print(f\"Precision (Fold {fold_idx}): {precision_score(y_val, prediction)}\")\n",
    "    print(f\"Recall (Fold {fold_idx}): {recall_score(y_val, prediction)}\")\n",
    "    print(f\"F1-Score (Fold {fold_idx}): {f1_score(y_val, prediction)}\")\n",
    "    print(\n",
    "        f\"ROC-AUC Score (Fold {fold_idx}): \"\n",
    "        + f\"{roc_auc_score(y_val, model.predict_proba(X_val)[:,1])}\\n\"\n",
    "    )\n",
    "\n",
    "    scores.append(f1_score(y_val, prediction))\n",
    "\n",
    "print(f\"Cross-Validation Average F1-Score: {np.mean(scores)}\")"
   ]
  },
  {
   "cell_type": "markdown",
   "id": "aa51ab07",
   "metadata": {
    "cell_marker": "\"\"\""
   },
   "source": [
    "# Create Submission"
   ]
  },
  {
   "cell_type": "code",
   "execution_count": 210,
   "id": "f71e1933",
   "metadata": {},
   "outputs": [
    {
     "data": {
      "text/html": [
       "<div>\n",
       "<style scoped>\n",
       "    .dataframe tbody tr th:only-of-type {\n",
       "        vertical-align: middle;\n",
       "    }\n",
       "\n",
       "    .dataframe tbody tr th {\n",
       "        vertical-align: top;\n",
       "    }\n",
       "\n",
       "    .dataframe thead th {\n",
       "        text-align: right;\n",
       "    }\n",
       "</style>\n",
       "<table border=\"1\" class=\"dataframe\">\n",
       "  <thead>\n",
       "    <tr style=\"text-align: right;\">\n",
       "      <th></th>\n",
       "      <th>id</th>\n",
       "      <th>bant_submit</th>\n",
       "      <th>customer_country</th>\n",
       "      <th>business_unit</th>\n",
       "      <th>com_reg_ver_win_rate</th>\n",
       "      <th>customer_idx</th>\n",
       "      <th>customer_type</th>\n",
       "      <th>enterprise</th>\n",
       "      <th>historical_existing_cnt</th>\n",
       "      <th>id_strategic_ver</th>\n",
       "      <th>...</th>\n",
       "      <th>response_corporate</th>\n",
       "      <th>expected_timeline</th>\n",
       "      <th>ver_cus</th>\n",
       "      <th>ver_pro</th>\n",
       "      <th>ver_win_rate_x</th>\n",
       "      <th>ver_win_ratio_per_bu</th>\n",
       "      <th>business_area</th>\n",
       "      <th>business_subarea</th>\n",
       "      <th>lead_owner</th>\n",
       "      <th>is_converted</th>\n",
       "    </tr>\n",
       "  </thead>\n",
       "  <tbody>\n",
       "    <tr>\n",
       "      <th>0</th>\n",
       "      <td>19844</td>\n",
       "      <td>0.00</td>\n",
       "      <td>/  / Brazil</td>\n",
       "      <td>ID</td>\n",
       "      <td>0.073248</td>\n",
       "      <td>47466</td>\n",
       "      <td>End Customer</td>\n",
       "      <td>Enterprise</td>\n",
       "      <td>53.0</td>\n",
       "      <td>NaN</td>\n",
       "      <td>...</td>\n",
       "      <td>LGESP</td>\n",
       "      <td>NaN</td>\n",
       "      <td>1</td>\n",
       "      <td>0</td>\n",
       "      <td>0.001183</td>\n",
       "      <td>0.049840</td>\n",
       "      <td>retail</td>\n",
       "      <td>Electronics &amp; Telco</td>\n",
       "      <td>278</td>\n",
       "      <td>False</td>\n",
       "    </tr>\n",
       "    <tr>\n",
       "      <th>1</th>\n",
       "      <td>9738</td>\n",
       "      <td>0.25</td>\n",
       "      <td>400 N State Of Franklin Rd  Cloud IT / Johnson...</td>\n",
       "      <td>IT</td>\n",
       "      <td>NaN</td>\n",
       "      <td>5405</td>\n",
       "      <td>End Customer</td>\n",
       "      <td>SMB</td>\n",
       "      <td>NaN</td>\n",
       "      <td>NaN</td>\n",
       "      <td>...</td>\n",
       "      <td>LGEUS</td>\n",
       "      <td>NaN</td>\n",
       "      <td>0</td>\n",
       "      <td>0</td>\n",
       "      <td>0.000013</td>\n",
       "      <td>NaN</td>\n",
       "      <td>transportation</td>\n",
       "      <td>Others</td>\n",
       "      <td>437</td>\n",
       "      <td>False</td>\n",
       "    </tr>\n",
       "    <tr>\n",
       "      <th>2</th>\n",
       "      <td>8491</td>\n",
       "      <td>1.00</td>\n",
       "      <td>/  / U.A.E</td>\n",
       "      <td>ID</td>\n",
       "      <td>NaN</td>\n",
       "      <td>13597</td>\n",
       "      <td>Specifier/ Influencer</td>\n",
       "      <td>SMB</td>\n",
       "      <td>NaN</td>\n",
       "      <td>NaN</td>\n",
       "      <td>...</td>\n",
       "      <td>LGEGF</td>\n",
       "      <td>less than 3 months</td>\n",
       "      <td>0</td>\n",
       "      <td>0</td>\n",
       "      <td>0.000060</td>\n",
       "      <td>0.131148</td>\n",
       "      <td>hospital &amp; health care</td>\n",
       "      <td>General Hospital</td>\n",
       "      <td>874</td>\n",
       "      <td>False</td>\n",
       "    </tr>\n",
       "    <tr>\n",
       "      <th>3</th>\n",
       "      <td>19895</td>\n",
       "      <td>0.50</td>\n",
       "      <td>/ Madison  / United States</td>\n",
       "      <td>ID</td>\n",
       "      <td>0.118644</td>\n",
       "      <td>17204</td>\n",
       "      <td>NaN</td>\n",
       "      <td>Enterprise</td>\n",
       "      <td>NaN</td>\n",
       "      <td>NaN</td>\n",
       "      <td>...</td>\n",
       "      <td>LGEUS</td>\n",
       "      <td>more than a year</td>\n",
       "      <td>0</td>\n",
       "      <td>0</td>\n",
       "      <td>0.001183</td>\n",
       "      <td>0.049840</td>\n",
       "      <td>retail</td>\n",
       "      <td>NaN</td>\n",
       "      <td>194</td>\n",
       "      <td>False</td>\n",
       "    </tr>\n",
       "    <tr>\n",
       "      <th>4</th>\n",
       "      <td>10465</td>\n",
       "      <td>1.00</td>\n",
       "      <td>/ Sao Paulo / Brazil</td>\n",
       "      <td>ID</td>\n",
       "      <td>0.074949</td>\n",
       "      <td>2329</td>\n",
       "      <td>End Customer</td>\n",
       "      <td>Enterprise</td>\n",
       "      <td>2.0</td>\n",
       "      <td>1.0</td>\n",
       "      <td>...</td>\n",
       "      <td>LGESP</td>\n",
       "      <td>less than 3 months</td>\n",
       "      <td>1</td>\n",
       "      <td>1</td>\n",
       "      <td>0.003079</td>\n",
       "      <td>0.064566</td>\n",
       "      <td>corporate / office</td>\n",
       "      <td>Engineering</td>\n",
       "      <td>167</td>\n",
       "      <td>False</td>\n",
       "    </tr>\n",
       "  </tbody>\n",
       "</table>\n",
       "<p>5 rows × 30 columns</p>\n",
       "</div>"
      ],
      "text/plain": [
       "      id  bant_submit                                   customer_country  \\\n",
       "0  19844         0.00                                        /  / Brazil   \n",
       "1   9738         0.25  400 N State Of Franklin Rd  Cloud IT / Johnson...   \n",
       "2   8491         1.00                                         /  / U.A.E   \n",
       "3  19895         0.50                         / Madison  / United States   \n",
       "4  10465         1.00                               / Sao Paulo / Brazil   \n",
       "\n",
       "  business_unit  com_reg_ver_win_rate  customer_idx          customer_type  \\\n",
       "0            ID              0.073248         47466           End Customer   \n",
       "1            IT                   NaN          5405           End Customer   \n",
       "2            ID                   NaN         13597  Specifier/ Influencer   \n",
       "3            ID              0.118644         17204                    NaN   \n",
       "4            ID              0.074949          2329           End Customer   \n",
       "\n",
       "   enterprise  historical_existing_cnt  id_strategic_ver  ...  \\\n",
       "0  Enterprise                     53.0               NaN  ...   \n",
       "1         SMB                      NaN               NaN  ...   \n",
       "2         SMB                      NaN               NaN  ...   \n",
       "3  Enterprise                      NaN               NaN  ...   \n",
       "4  Enterprise                      2.0               1.0  ...   \n",
       "\n",
       "   response_corporate   expected_timeline ver_cus  ver_pro ver_win_rate_x  \\\n",
       "0               LGESP                 NaN       1        0       0.001183   \n",
       "1               LGEUS                 NaN       0        0       0.000013   \n",
       "2               LGEGF  less than 3 months       0        0       0.000060   \n",
       "3               LGEUS    more than a year       0        0       0.001183   \n",
       "4               LGESP  less than 3 months       1        1       0.003079   \n",
       "\n",
       "  ver_win_ratio_per_bu           business_area     business_subarea  \\\n",
       "0             0.049840                  retail  Electronics & Telco   \n",
       "1                  NaN          transportation               Others   \n",
       "2             0.131148  hospital & health care     General Hospital   \n",
       "3             0.049840                  retail                  NaN   \n",
       "4             0.064566      corporate / office          Engineering   \n",
       "\n",
       "  lead_owner is_converted  \n",
       "0        278        False  \n",
       "1        437        False  \n",
       "2        874        False  \n",
       "3        194        False  \n",
       "4        167        False  \n",
       "\n",
       "[5 rows x 30 columns]"
      ]
     },
     "execution_count": 210,
     "metadata": {},
     "output_type": "execute_result"
    }
   ],
   "source": [
    "sm = SMOTE(sampling_strategy=\"minority\", random_state=RANDOM_STATE)\n",
    "X, y = sm.fit_resample(X, y)  # type: ignore\n",
    "model.fit(X, y)\n",
    "\n",
    "prediction = model.predict(X_test)\n",
    "prediction = np.where(prediction == 1, True, False)\n",
    "\n",
    "df_submission[\"is_converted\"] = prediction\n",
    "df_submission.to_csv(\"submission.csv\", index=False)\n",
    "df_submission.head()"
   ]
  },
  {
   "cell_type": "code",
   "execution_count": null,
   "id": "660ec45b",
   "metadata": {},
   "outputs": [],
   "source": [
    "# F1-Score: 0.6794487912590329"
   ]
  }
 ],
 "metadata": {
  "jupytext": {
   "cell_metadata_filter": "-all",
   "main_language": "python",
   "notebook_metadata_filter": "-all"
  },
  "kernelspec": {
   "display_name": "Python 3 (ipykernel)",
   "language": "python",
   "name": "python3"
  },
  "language_info": {
   "codemirror_mode": {
    "name": "ipython",
    "version": 3
   },
   "file_extension": ".py",
   "mimetype": "text/x-python",
   "name": "python",
   "nbconvert_exporter": "python",
   "pygments_lexer": "ipython3",
   "version": "3.9.12"
  }
 },
 "nbformat": 4,
 "nbformat_minor": 5
}
