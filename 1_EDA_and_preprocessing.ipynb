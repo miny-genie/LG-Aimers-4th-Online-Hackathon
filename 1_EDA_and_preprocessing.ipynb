{
 "cells": [
  {
   "cell_type": "code",
   "execution_count": null,
   "metadata": {},
   "outputs": [],
   "source": [
    "# Write the code in this file.\n",
    "# Path is develop/홍우기\n",
    "# CMD: git push -u origin develop/홍우기\n"
   ]
  }
 ],
 "metadata": {
  "language_info": {
   "name": "python"
  }
 },
 "nbformat": 4,
 "nbformat_minor": 2
}
