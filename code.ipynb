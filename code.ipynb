{
 "cells": [
  {
   "cell_type": "markdown",
   "id": "7b45cca1",
   "metadata": {
    "cell_marker": "\"\"\""
   },
   "source": [
    "# Import Dataset and Libraries"
   ]
  },
  {
   "cell_type": "code",
   "execution_count": 1,
   "id": "2f23107c",
   "metadata": {},
   "outputs": [
    {
     "name": "stdout",
     "output_type": "stream",
     "text": [
      "Requirement already satisfied: imbalanced-learn==0.10.1 in c:\\users\\kjmin\\appdata\\local\\programs\\python\\python311\\lib\\site-packages (0.10.1)Note: you may need to restart the kernel to use updated packages.\n",
      "\n",
      "Requirement already satisfied: numpy>=1.17.3 in c:\\users\\kjmin\\appdata\\local\\programs\\python\\python311\\lib\\site-packages (from imbalanced-learn==0.10.1) (1.24.3)\n",
      "Requirement already satisfied: scipy>=1.3.2 in c:\\users\\kjmin\\appdata\\local\\programs\\python\\python311\\lib\\site-packages (from imbalanced-learn==0.10.1) (1.10.1)\n",
      "Requirement already satisfied: scikit-learn>=1.0.2 in c:\\users\\kjmin\\appdata\\local\\programs\\python\\python311\\lib\\site-packages (from imbalanced-learn==0.10.1) (1.2.2)\n",
      "Requirement already satisfied: joblib>=1.1.1 in c:\\users\\kjmin\\appdata\\local\\programs\\python\\python311\\lib\\site-packages (from imbalanced-learn==0.10.1) (1.2.0)\n",
      "Requirement already satisfied: threadpoolctl>=2.0.0 in c:\\users\\kjmin\\appdata\\local\\programs\\python\\python311\\lib\\site-packages (from imbalanced-learn==0.10.1) (3.1.0)\n"
     ]
    },
    {
     "name": "stderr",
     "output_type": "stream",
     "text": [
      "\n",
      "[notice] A new release of pip is available: 23.3.2 -> 24.0\n",
      "[notice] To update, run: python.exe -m pip install --upgrade pip\n"
     ]
    },
    {
     "name": "stdout",
     "output_type": "stream",
     "text": [
      "Note: you may need to restart the kernel to use updated packages.\n"
     ]
    },
    {
     "name": "stderr",
     "output_type": "stream",
     "text": [
      "ERROR: Ignored the following yanked versions: 0.1.1\n",
      "ERROR: Could not find a version that satisfies the requirement catboost==1.1.1 (from versions: 1.2, 1.2.1, 1.2.1.1, 1.2.2)\n",
      "ERROR: No matching distribution found for catboost==1.1.1\n",
      "\n",
      "[notice] A new release of pip is available: 23.3.2 -> 24.0\n",
      "[notice] To update, run: python.exe -m pip install --upgrade pip\n"
     ]
    },
    {
     "name": "stdout",
     "output_type": "stream",
     "text": [
      "Collecting pycountry==22.1.10\n",
      "  Using cached pycountry-22.1.10.tar.gz (10.1 MB)\n",
      "  Preparing metadata (setup.py): started\n",
      "  Preparing metadata (setup.py): finished with status 'done'\n",
      "Note: you may need to restart the kernel to use updated packages.\n"
     ]
    },
    {
     "name": "stderr",
     "output_type": "stream",
     "text": [
      "ERROR: No .egg-info directory found in C:\\Users\\kjmin\\AppData\\Local\\Temp\\pip-pip-egg-info-9pc69y2g\n",
      "\n",
      "[notice] A new release of pip is available: 23.3.2 -> 24.0\n",
      "[notice] To update, run: python.exe -m pip install --upgrade pip\n"
     ]
    },
    {
     "name": "stdout",
     "output_type": "stream",
     "text": [
      "Requirement already satisfied: scikit-learn==1.2.2 in c:\\users\\kjmin\\appdata\\local\\programs\\python\\python311\\lib\\site-packages (1.2.2)\n",
      "Requirement already satisfied: numpy>=1.17.3 in c:\\users\\kjmin\\appdata\\local\\programs\\python\\python311\\lib\\site-packages (from scikit-learn==1.2.2) (1.24.3)\n",
      "Requirement already satisfied: scipy>=1.3.2 in c:\\users\\kjmin\\appdata\\local\\programs\\python\\python311\\lib\\site-packages (from scikit-learn==1.2.2) (1.10.1)\n",
      "Requirement already satisfied: joblib>=1.1.1 in c:\\users\\kjmin\\appdata\\local\\programs\\python\\python311\\lib\\site-packages (from scikit-learn==1.2.2) (1.2.0)\n",
      "Requirement already satisfied: threadpoolctl>=2.0.0 in c:\\users\\kjmin\\appdata\\local\\programs\\python\\python311\\lib\\site-packages (from scikit-learn==1.2.2) (3.1.0)\n",
      "Note: you may need to restart the kernel to use updated packages.\n"
     ]
    },
    {
     "name": "stderr",
     "output_type": "stream",
     "text": [
      "\n",
      "[notice] A new release of pip is available: 23.3.2 -> 24.0\n",
      "[notice] To update, run: python.exe -m pip install --upgrade pip\n"
     ]
    },
    {
     "name": "stdout",
     "output_type": "stream",
     "text": [
      "Requirement already satisfied: googletrans==4.0.0-rc1 in c:\\users\\kjmin\\appdata\\local\\programs\\python\\python311\\lib\\site-packages (4.0.0rc1)\n",
      "Requirement already satisfied: httpx==0.13.3 in c:\\users\\kjmin\\appdata\\local\\programs\\python\\python311\\lib\\site-packages (from googletrans==4.0.0-rc1) (0.13.3)\n",
      "Requirement already satisfied: certifi in c:\\users\\kjmin\\appdata\\local\\programs\\python\\python311\\lib\\site-packages (from httpx==0.13.3->googletrans==4.0.0-rc1) (2022.12.7)\n",
      "Requirement already satisfied: hstspreload in c:\\users\\kjmin\\appdata\\local\\programs\\python\\python311\\lib\\site-packages (from httpx==0.13.3->googletrans==4.0.0-rc1) (2024.2.1)\n",
      "Requirement already satisfied: sniffio in c:\\users\\kjmin\\appdata\\local\\programs\\python\\python311\\lib\\site-packages (from httpx==0.13.3->googletrans==4.0.0-rc1) (1.3.0)\n",
      "Requirement already satisfied: chardet==3.* in c:\\users\\kjmin\\appdata\\local\\programs\\python\\python311\\lib\\site-packages (from httpx==0.13.3->googletrans==4.0.0-rc1) (3.0.4)\n",
      "Requirement already satisfied: idna==2.* in c:\\users\\kjmin\\appdata\\local\\programs\\python\\python311\\lib\\site-packages (from httpx==0.13.3->googletrans==4.0.0-rc1) (2.10)\n",
      "Requirement already satisfied: rfc3986<2,>=1.3 in c:\\users\\kjmin\\appdata\\local\\programs\\python\\python311\\lib\\site-packages (from httpx==0.13.3->googletrans==4.0.0-rc1) (1.5.0)\n",
      "Requirement already satisfied: httpcore==0.9.* in c:\\users\\kjmin\\appdata\\local\\programs\\python\\python311\\lib\\site-packages (from httpx==0.13.3->googletrans==4.0.0-rc1) (0.9.1)\n",
      "Requirement already satisfied: h11<0.10,>=0.8 in c:\\users\\kjmin\\appdata\\local\\programs\\python\\python311\\lib\\site-packages (from httpcore==0.9.*->httpx==0.13.3->googletrans==4.0.0-rc1) (0.9.0)\n",
      "Requirement already satisfied: h2==3.* in c:\\users\\kjmin\\appdata\\local\\programs\\python\\python311\\lib\\site-packages (from httpcore==0.9.*->httpx==0.13.3->googletrans==4.0.0-rc1) (3.2.0)\n",
      "Requirement already satisfied: hyperframe<6,>=5.2.0 in c:\\users\\kjmin\\appdata\\local\\programs\\python\\python311\\lib\\site-packages (from h2==3.*->httpcore==0.9.*->httpx==0.13.3->googletrans==4.0.0-rc1) (5.2.0)\n",
      "Requirement already satisfied: hpack<4,>=3.0 in c:\\users\\kjmin\\appdata\\local\\programs\\python\\python311\\lib\\site-packages (from h2==3.*->httpcore==0.9.*->httpx==0.13.3->googletrans==4.0.0-rc1) (3.0.0)\n",
      "Note: you may need to restart the kernel to use updated packages.\n"
     ]
    },
    {
     "name": "stderr",
     "output_type": "stream",
     "text": [
      "\n",
      "[notice] A new release of pip is available: 23.3.2 -> 24.0\n",
      "[notice] To update, run: python.exe -m pip install --upgrade pip\n"
     ]
    }
   ],
   "source": [
    "%pip install imbalanced-learn==0.10.1\n",
    "%pip install catboost==1.1.1\n",
    "%pip install pycountry==22.1.10\n",
    "%pip install scikit-learn==1.2.2\n",
    "%pip install googletrans==4.0.0-rc1"
   ]
  },
  {
   "cell_type": "code",
   "execution_count": 2,
   "id": "4a80b4e8",
   "metadata": {},
   "outputs": [],
   "source": [
    "import numpy as np\n",
    "import pandas as pd\n",
    "\n",
    "RANDOM_STATE = 42\n",
    "TRAIN_FILE = \"./train.csv\"\n",
    "TEST_FILE = \"./submission.csv\""
   ]
  },
  {
   "cell_type": "code",
   "execution_count": 3,
   "id": "ae2944c2",
   "metadata": {},
   "outputs": [],
   "source": [
    "df_train = pd.read_csv(TRAIN_FILE)\n",
    "df_test = pd.read_csv(TEST_FILE)\n",
    "df_submission = pd.read_csv(TEST_FILE)\n",
    "\n",
    "X, y = df_train.drop(\"is_converted\", axis=1), df_train[\"is_converted\"]\n",
    "X_test = df_test.drop([\"is_converted\", \"id\"], axis=1)"
   ]
  },
  {
   "cell_type": "markdown",
   "id": "0aee8c2b",
   "metadata": {
    "cell_marker": "\"\"\""
   },
   "source": [
    "# Data Preprocessing"
   ]
  },
  {
   "cell_type": "markdown",
   "id": "a3ad484d",
   "metadata": {
    "cell_marker": "\"\"\""
   },
   "source": [
    "## 1. Data Imputation"
   ]
  },
  {
   "cell_type": "code",
   "execution_count": 4,
   "id": "0c4153de",
   "metadata": {},
   "outputs": [],
   "source": [
    "values = {\n",
    "    **{column: 0 for column in X.columns},\n",
    "    \"inquiry_type\": \"Quotation or Purchase Consultation\",\n",
    "    \"customer_country\": \"Not Found\",\n",
    "    \"historical_existing_cnt\": X[\"historical_existing_cnt\"].mode()[0],\n",
    "}\n",
    "\n",
    "X.fillna(value=values, inplace=True)\n",
    "X_test.fillna(value=values, inplace=True)"
   ]
  },
  {
   "cell_type": "markdown",
   "id": "05c51643",
   "metadata": {
    "cell_marker": "\"\"\""
   },
   "source": [
    "## 2. Data Cleaning "
   ]
  },
  {
   "cell_type": "markdown",
   "id": "0ce274d1",
   "metadata": {
    "cell_marker": "\"\"\"",
    "lines_to_next_cell": 2
   },
   "source": [
    "### Feature: Customer Country (\"customer_country\")"
   ]
  },
  {
   "cell_type": "code",
   "execution_count": 5,
   "id": "baad9113",
   "metadata": {},
   "outputs": [],
   "source": [
    "import pycountry\n",
    "\n",
    "\n",
    "def preprocess_country(country):\n",
    "    if not isinstance(country, str):\n",
    "        return \"Not Found\"\n",
    "\n",
    "    country = country.split(\"/\")[-1].strip()\n",
    "    country = pycountry.countries.get(name=country)\n",
    "    return \"Not Found\" if country is None else country.alpha_3\n",
    "\n",
    "\n",
    "X[\"customer_country\"] = [\n",
    "    preprocess_country(country) for country in X[\"customer_country\"]\n",
    "]\n",
    "\n",
    "X_test[\"customer_country\"] = [\n",
    "    preprocess_country(country) for country in X_test[\"customer_country\"]\n",
    "]"
   ]
  },
  {
   "cell_type": "markdown",
   "id": "10c135fc",
   "metadata": {
    "cell_marker": "\"\"\""
   },
   "source": [
    "### Feature: Business Unit (\"business_unit\")"
   ]
  },
  {
   "cell_type": "code",
   "execution_count": 6,
   "id": "bcf35cf0",
   "metadata": {},
   "outputs": [],
   "source": [
    "X[\"business_unit\"] = X[\"business_unit\"].astype(\n",
    "    pd.CategoricalDtype(categories=[\"ID\", \"AS\", \"IT\", \"Solution\", \"CM\"])\n",
    ")\n",
    "X_test[\"business_unit\"] = X_test[\"business_unit\"].astype(\n",
    "    pd.CategoricalDtype(categories=[\"ID\", \"AS\", \"IT\", \"Solution\", \"CM\"])\n",
    ")"
   ]
  },
  {
   "cell_type": "markdown",
   "id": "bea9b778",
   "metadata": {
    "cell_marker": "\"\"\""
   },
   "source": [
    "### Feature: Inquiry Type (\"inquiry_type\")"
   ]
  },
  {
   "cell_type": "code",
   "execution_count": 7,
   "id": "188321b1",
   "metadata": {},
   "outputs": [],
   "source": [
    "inquiry_type_remap = {\n",
    "    # Quotation: Asking about the product itself.\n",
    "    \"Q\": [\n",
    "        \"Quotation or Purchase Consultation\",\n",
    "        \"Quotation or purchase consultation\",\n",
    "        \"Quotation or Purchase consultation\",\n",
    "        \"quotation_or_purchase_consultation\",\n",
    "        \"Purchase or Quotation\",\n",
    "        \"Purchase\",\n",
    "        \"Request for quotation or purchase\",\n",
    "        \"Sales Inquiry\",\n",
    "        \"sales\",\n",
    "        \"quotation_\",\n",
    "    ],\n",
    "    # Usage: Asking about how to use the product.\n",
    "    \"U\": [\n",
    "        \"Usage or Technical Consultation\",\n",
    "        \"Usage or technical consultation\",\n",
    "        \"usage or technical consultation\",\n",
    "        \"usage_or_technical_consultation\",\n",
    "        \"Technical Consultation\",\n",
    "        \"Technical Support\",\n",
    "        \"technical\",\n",
    "        \"technical_consultation\",\n",
    "        \"Request for technical consulting\",\n",
    "        \"Product Information\",\n",
    "        \"i want to know the details about it\",\n",
    "        \"first Info and pricing\",\n",
    "        \"Toi muon tim hieu thong tin ky thuat, gia ca cua sp de su dung\",\n",
    "        \"tôi cần tham khảo giá và giải pháp từ LG\",\n",
    "        \"Trainings\",\n",
    "    ],\n",
    "    \"O\": [\n",
    "        \"Other\",\n",
    "        \"Others\",\n",
    "        \"other_\",\n",
    "        \"other\",\n",
    "        \"others\",\n",
    "        \"Etc.\",\n",
    "        \"ETC.\",\n",
    "        \"Not specified\",\n",
    "        \"(Select ID_Needs)\",\n",
    "        \"IDB\",\n",
    "        \"Services\",\n",
    "        \"Request for Partnership\",\n",
    "        \"Request a Demo\",\n",
    "        \"Request for Distributorship\",\n",
    "        \"Customer Suggestions\",\n",
    "        *(\n",
    "            df_train[\"inquiry_type\"]\n",
    "            .value_counts()\n",
    "            .loc[df_train[\"inquiry_type\"].value_counts() < 10]\n",
    "            .index.tolist()\n",
    "        ),\n",
    "    ],\n",
    "}\n",
    "\n",
    "for key, value in inquiry_type_remap.items():\n",
    "    X.loc[X[\"inquiry_type\"].isin(value), \"inquiry_type\"] = key\n",
    "    X_test.loc[X_test[\"inquiry_type\"].isin(value), \"inquiry_type\"] = key"
   ]
  },
  {
   "cell_type": "markdown",
   "id": "841b6535",
   "metadata": {},
   "source": [
    "### Feature: Product Category (\"product_category\")"
   ]
  },
  {
   "cell_type": "code",
   "execution_count": 8,
   "id": "533ea85b",
   "metadata": {},
   "outputs": [],
   "source": [
    "def preprocess_product_dict(df: pd.DataFrame) -> dict:\n",
    "    product_category_remap = {\n",
    "        # IS: Integrated Solutions Inquiry - INTEGRATED SOLUTIONS\n",
    "        \"IS\" : [\n",
    "            \"monitor signage\",\n",
    "            \"commercial tv\",\n",
    "            \"monitor\",\n",
    "            \"monitor tv\",\n",
    "            \"pc\",\n",
    "            \"projector\",\n",
    "            \"robot\",\n",
    "            \"system ac\",\n",
    "            \"ems\",\n",
    "            \"rac\",\n",
    "            \"tv\",\n",
    "            \"refrigerator\",\n",
    "            \"washing machine\",\n",
    "            \"aircare\",\n",
    "            \"vaccum cleaner\",\n",
    "            \"styler\",\n",
    "            \"dryer\",\n",
    "            \"built-in/cooking\",\n",
    "            \"home beauty\",\n",
    "            \"water care\",\n",
    "            \"audio/video\",\n",
    "            \"lg thinq home\",\n",
    "            \"smart home\",\n",
    "            \"lg one:quick_flex\",    # healthcare solutions\n",
    "            \"one:quick\",    # healthcare solutions\n",
    "            \"quick\",    # healthcare solutions\n",
    "            \"services\",\n",
    "        ],\n",
    "        # CD: B2B Product Inquiry - Commercial Display\n",
    "        \"CD\": [\n",
    "            \"^(?=.*\\d)[A-Za-z0-9.\\s-]+$\",    # tv panel model name filter\n",
    "            \"medical display\",\n",
    "            \"led bloc\",\n",
    "            \"uhd signage\",\n",
    "            \"commercial display\",\n",
    "            \"oled signage\",\n",
    "            \"led signage\",\n",
    "            \"video wall signage\",\n",
    "            \"interactive signage\",\n",
    "            \"high brightness signage\",\n",
    "            \"special signage\",\n",
    "            \"standard signage\",\n",
    "            \"hotel tv\",\n",
    "            \"hospital tv\",\n",
    "            \"accessories\",\n",
    "            \"software solution\",\n",
    "            \"signage care solution\",\n",
    "            \"webos\",\n",
    "            \"pro:centric\",\n",
    "            \"one:quick series\",\n",
    "            \"signage\",\n",
    "            \"display\",\n",
    "            'led',\n",
    "            'wall',    # video wall,\n",
    "            'MAGNIT',\n",
    "            \"centric\",\n",
    "            \"all\",\n",
    "            \"idb\",\n",
    "            \"virtual\",\n",
    "            \"virtual production\",\n",
    "            \"createboard\",\n",
    "        ],\n",
    "        # IT: B2B Product Inquiry - IT PRODUCTS\n",
    "        \"IT\": [\n",
    "            \"monitor\",\n",
    "            \"laptop\",\n",
    "            \"projector\",\n",
    "            \"cloud device\",\n",
    "        ],\n",
    "        # HE: B2B Product Inquiry - HVAC/ESS\n",
    "        \"HE\": [\n",
    "            \"control\",\n",
    "            \"ventilation\",\n",
    "            \"vrf\",\n",
    "            \"split\",\n",
    "            \"multi-split\",\n",
    "            \"single-split\",\n",
    "            \"chiller\",\n",
    "            \"heating\",\n",
    "            \"energy storage system\",\n",
    "            \"ess\",\n",
    "            \"solar\",\n",
    "            \"heat\",\n",
    "            \"water\",\n",
    "            \"air condition\",\n",
    "            \"air\",\n",
    "            \"ceiling\",\n",
    "            \"cassette\",\n",
    "            \"ondition\",\n",
    "            \"cool\",\n",
    "            \"multi\",\n",
    "            \"support\",\n",
    "        ],\n",
    "        # CM: B2B Product Inquiry - Compressor and Motor\n",
    "        \"CM\": [\n",
    "            \"reciprocating compressor\",\n",
    "            \"rotary compressor\",\n",
    "            \"scroll compressor\",\n",
    "            \"compressor\",\n",
    "            \"motor\",\n",
    "        ],\n",
    "        # RB: B2B Product Inquiry - Robot\n",
    "        \"RB\": [\n",
    "            \"LG CLOi UV-C Bot\",\n",
    "            \"LG CLOi ServeBot\",\n",
    "            \"Shelf type\",\n",
    "            \"Drawer type\",\n",
    "            \"LG CLOi GuideBot\",\n",
    "            \"CLOi\",\n",
    "            \"UV-C\",\n",
    "            \"Bot\",\n",
    "        ],\n",
    "        # AM: B2B Product Inquiry - ADVANCED MATERIALS\n",
    "        \"AM\": [\n",
    "            \"Antimicrobial\",\n",
    "            \"Porcelain enamel\",\n",
    "            \"Porcelain\",\n",
    "            \"enamel\",\n",
    "            \"Specialty glass\",\n",
    "            \"Specialty\",\n",
    "            \"glass\",\n",
    "        ],\n",
    "        # others\n",
    "        \"others\": [\n",
    "            \"[\\(\\)]\",\n",
    "            \"MISSING_VALUE\",    # missing value\n",
    "            \"commercial laundry\"    # B2B Product Inquiry\n",
    "            \"others\",\n",
    "            \"ohters\",\n",
    "            \"other\",\n",
    "            \"ohter\",\n",
    "            'otros',\n",
    "            'outros',\n",
    "            'error',\n",
    "            \"etc\",\n",
    "        ]\n",
    "    }\n",
    "    \n",
    "    return product_category_remap"
   ]
  },
  {
   "cell_type": "code",
   "execution_count": 9,
   "id": "97191318",
   "metadata": {},
   "outputs": [],
   "source": [
    "from googletrans import Translator\n",
    "\n",
    "\n",
    "def translate_sentence(sentence: str, dest: str = \"en\") -> str:\n",
    "    translator = Translator()\n",
    "    return translator.translate(sentence, src=\"auto\", dest=dest).text\n",
    "\n",
    "\n",
    "def detect_language(sentence: str) -> str:\n",
    "    translator = Translator()\n",
    "    return translator.detect(sentence).lang\n",
    "\n",
    "\n",
    "def apply_translation(text):\n",
    "    global already\n",
    "    if text in already: return already[text]\n",
    "    \n",
    "    lang = detect_language(text)\n",
    "    tran = translate_sentence(text)\n",
    "    already[text] = tran\n",
    "\n",
    "    return tran"
   ]
  },
  {
   "cell_type": "code",
   "execution_count": 10,
   "id": "d57cd0ad",
   "metadata": {},
   "outputs": [],
   "source": [
    "from tqdm import tqdm\n",
    "tqdm.pandas()\n",
    "\n",
    "def preprocess_product_category(df: pd.DataFrame) -> pd.DataFrame:\n",
    "    # making dictionary depending on LG official website\n",
    "    product_category_remap = preprocess_product_dict(df)\n",
    "    \n",
    "    # filling missing value: \"0\"\n",
    "    df_pc = df['product_category'].fillna(\"MISSING_VALUE\", inplace=False)\n",
    "\n",
    "    # preprocessing by category\n",
    "    for key, value in product_category_remap.items():\n",
    "        regex = '|'.join(value)\n",
    "        \n",
    "        df_pc.loc[df_pc.str.contains(\n",
    "            regex,         # chekcing string pattern\n",
    "            na=False,     # missing value return is boolean\n",
    "            case=False    # ignore upper and lower\n",
    "        )] = key\n",
    "        \n",
    "    # 'product_category' 열에서 product_category_remap에 없는 값을 필터링\n",
    "    filtered_categories = df_pc[~df_pc.isin(product_category_remap)]    \n",
    "    # tqdm을 사용하여 진행 상태를 표시하면서 apply_translation 함수 적용\n",
    "    filtered_categories = filtered_categories.progress_apply(apply_translation)\n",
    "    # 기존 df에 번역한 값을 저장\n",
    "    df_pc.loc[filtered_categories.index] = filtered_categories\n",
    "    \n",
    "    # 20개보다 적게 있는 자잘한 값들을 전부 etc에 추가\n",
    "    etc = (\n",
    "        df_pc\n",
    "        .value_counts()\n",
    "        .loc[df_pc.value_counts() < 20]\n",
    "        .index.tolist()\n",
    "    )\n",
    "    product_category_remap['others'].extend(etc)\n",
    "        \n",
    "    # preprocessing by category\n",
    "    for key, value in product_category_remap.items():\n",
    "        regex = '|'.join(value)\n",
    "        \n",
    "        df_pc.loc[df_pc.str.contains(\n",
    "            regex,         # chekcing string pattern\n",
    "            na=False,     # missing value return is boolean\n",
    "            case=False    # ignore upper and lower\n",
    "        )] = key \n",
    "  \n",
    "    return df_pc"
   ]
  },
  {
   "cell_type": "code",
   "execution_count": 11,
   "id": "99317022",
   "metadata": {},
   "outputs": [
    {
     "name": "stderr",
     "output_type": "stream",
     "text": [
      "100%|██████████| 710/710 [00:37<00:00, 18.89it/s] \n",
      "100%|██████████| 1/1 [00:00<00:00,  1.62it/s]\n"
     ]
    }
   ],
   "source": [
    "# translator가 오래 걸려, 저장용 dictionary 선언\n",
    "already = dict()\n",
    "df_pc = preprocess_product_category(df_train)\n",
    "X['product_category'] = df_pc\n",
    "\n",
    "# translator가 오래 걸려, 저장용 dictionary 선언\n",
    "already = dict()\n",
    "df_pc = preprocess_product_category(df_test)\n",
    "X_test['product_category'] = df_pc"
   ]
  },
  {
   "cell_type": "markdown",
   "id": "c4916ad1",
   "metadata": {},
   "source": [
    "### Feature: Response Corporate (\"response_corporate\")"
   ]
  },
  {
   "cell_type": "code",
   "execution_count": 12,
   "id": "7722fdc8",
   "metadata": {},
   "outputs": [],
   "source": [
    "def label_encoding(series: pd.Series) -> pd.Series:\n",
    "    my_dict = {}\n",
    "\n",
    "    # 모든 요소를 문자열로 변환\n",
    "    series = series.astype(str)\n",
    "\n",
    "    for idx, value in enumerate(sorted(series.unique())):\n",
    "        my_dict[value] = idx\n",
    "    series = series.map(my_dict)\n",
    "\n",
    "    return series\n",
    "\n",
    "def categorize(num):\n",
    "    if num > 4000:\n",
    "        return 'converted_high'\n",
    "    elif num > 288:\n",
    "        return 'converted_middle'\n",
    "    else:\n",
    "        return 'converted_low'"
   ]
  },
  {
   "cell_type": "code",
   "execution_count": 13,
   "id": "074e1650",
   "metadata": {},
   "outputs": [],
   "source": [
    "converted_counts = X.groupby('response_corporate').size().to_dict()\n",
    "X['corporate_corporate_num'] = X['response_corporate'].map(converted_counts).fillna(0).astype(int)\n",
    "X['corporate_converted_category'] = X['corporate_corporate_num'].apply(categorize)\n",
    "\n",
    "converted_counts = X_test.groupby('response_corporate').size().to_dict()\n",
    "X_test['corporate_corporate_num'] = X_test['response_corporate'].map(converted_counts).fillna(0).astype(int)\n",
    "X_test['corporate_converted_category'] = X_test['corporate_corporate_num'].apply(categorize)"
   ]
  },
  {
   "cell_type": "code",
   "execution_count": 14,
   "id": "0fda22bf",
   "metadata": {},
   "outputs": [],
   "source": [
    "X['corporate_converted_category'] = label_encoding(X[\"corporate_converted_category\"])\n",
    "X_test['corporate_converted_category'] = label_encoding(X_test[\"corporate_converted_category\"])"
   ]
  },
  {
   "cell_type": "markdown",
   "id": "e8163dc0",
   "metadata": {
    "cell_marker": "\"\"\""
   },
   "source": [
    "## 3. Feature Engineering"
   ]
  },
  {
   "cell_type": "code",
   "execution_count": 15,
   "id": "2d668045",
   "metadata": {},
   "outputs": [],
   "source": [
    "country_frequency = X[\"customer_country\"].value_counts(normalize=True)\n",
    "X[\"customer_country_frequency\"] = X[\"customer_country\"].map(country_frequency)\n",
    "X_test[\"customer_country_frequency\"] = X_test[\"customer_country\"].map(country_frequency)\n",
    "\n",
    "country_target = (\n",
    "    pd.concat([X, y], axis=1).groupby(\"customer_country\")[\"is_converted\"].mean()\n",
    ")\n",
    "X[\"customer_country_target\"] = X[\"customer_country\"].map(country_target)\n",
    "X_test[\"customer_country_target\"] = X_test[\"customer_country\"].map(country_target)\n",
    "\n",
    "owner_frequency = X[\"lead_owner\"].value_counts(normalize=True)\n",
    "X[\"lead_owner_frequency\"] = X[\"lead_owner\"].map(owner_frequency)\n",
    "X_test[\"lead_owner_frequency\"] = X_test[\"lead_owner\"].map(owner_frequency)\n",
    "\n",
    "owner_target = pd.concat([X, y], axis=1).groupby(\"lead_owner\")[\"is_converted\"].mean()\n",
    "X[\"lead_owner_target\"] = X[\"lead_owner\"].map(owner_target)\n",
    "X_test[\"lead_owner_target\"] = X_test[\"lead_owner\"].map(owner_target)"
   ]
  },
  {
   "cell_type": "markdown",
   "id": "b6951005",
   "metadata": {
    "cell_marker": "\"\"\""
   },
   "source": [
    "## 4. Feature Encoding"
   ]
  },
  {
   "cell_type": "code",
   "execution_count": 16,
   "id": "c9d91ba9",
   "metadata": {},
   "outputs": [],
   "source": [
    "def encode_features(\n",
    "    df: pd.DataFrame,\n",
    "    features=[\"enterprise\", \"business_unit\", \"inquiry_type\", \"bant_submit\", \"product_category\"],\n",
    ") -> pd.DataFrame:\n",
    "    df_encoded = pd.get_dummies(df[features], columns=features)\n",
    "    df_encoded = df_encoded.apply(lambda x: x.astype(\"category\").cat.codes)\n",
    "    df = pd.concat([df, df_encoded], axis=1).drop(features, axis=1)\n",
    "    return df\n",
    "\n",
    "\n",
    "X = encode_features(X)\n",
    "X_test = encode_features(X_test)"
   ]
  },
  {
   "cell_type": "markdown",
   "id": "61d05d9a",
   "metadata": {
    "cell_marker": "\"\"\""
   },
   "source": [
    "## 5. Feature Normalization"
   ]
  },
  {
   "cell_type": "code",
   "execution_count": 17,
   "id": "62d58adc",
   "metadata": {},
   "outputs": [],
   "source": [
    "from sklearn.compose import ColumnTransformer\n",
    "from sklearn.pipeline import Pipeline\n",
    "from sklearn.preprocessing import StandardScaler\n",
    "\n",
    "standard_transformer = Pipeline(steps=[(\"standardize\", StandardScaler())])\n",
    "column_transformer = ColumnTransformer(\n",
    "    transformers=[\n",
    "        (\"std\", standard_transformer, [\"lead_desc_length\", \"historical_existing_cnt\"]),\n",
    "    ],\n",
    "    verbose_feature_names_out=False,\n",
    "    remainder=\"passthrough\",\n",
    ")\n",
    "column_transformer.set_output(transform=\"pandas\")\n",
    "\n",
    "X = column_transformer.fit_transform(X)\n",
    "X_test = column_transformer.transform(X_test)"
   ]
  },
  {
   "cell_type": "markdown",
   "id": "5160342d",
   "metadata": {
    "cell_marker": "\"\"\""
   },
   "source": [
    "## 6. Outlier Removal"
   ]
  },
  {
   "cell_type": "markdown",
   "id": "c8f7cd4f",
   "metadata": {
    "cell_marker": "\"\"\""
   },
   "source": [
    "## 7. Feature Removal"
   ]
  },
  {
   "cell_type": "code",
   "execution_count": 18,
   "id": "4e0a1665",
   "metadata": {},
   "outputs": [],
   "source": [
    "features_to_drop = [\n",
    "    \"customer_country\",\n",
    "    \"business_subarea\",\n",
    "    \"business_area\",\n",
    "    \"customer_idx\",\n",
    "    # \"product_category\",\n",
    "    \"product_subcategory\",\n",
    "    \"product_modelname\",\n",
    "    \"customer_country.1\",\n",
    "    \"customer_position\",\n",
    "    \"customer_job\",\n",
    "    \"customer_type\",\n",
    "    \"response_corporate\",\n",
    "    \"expected_timeline\",\n",
    "    \"lead_owner\",\n",
    "]\n",
    "\n",
    "X = X.drop(features_to_drop, axis=1)  # type: ignore\n",
    "X_test = X_test.drop(features_to_drop, axis=1)  # type: ignore"
   ]
  },
  {
   "cell_type": "markdown",
   "id": "9a6c83e2",
   "metadata": {
    "cell_marker": "\"\"\""
   },
   "source": [
    "# Modeling"
   ]
  },
  {
   "cell_type": "code",
   "execution_count": 19,
   "id": "5db1372d",
   "metadata": {},
   "outputs": [],
   "source": [
    "from catboost import CatBoostClassifier\n",
    "\n",
    "model = CatBoostClassifier(random_state=RANDOM_STATE, verbose=False)"
   ]
  },
  {
   "cell_type": "markdown",
   "id": "70c31bd8",
   "metadata": {
    "cell_marker": "\"\"\""
   },
   "source": [
    "# K-Fold Cross Validation"
   ]
  },
  {
   "cell_type": "code",
   "execution_count": 20,
   "id": "5b785576",
   "metadata": {},
   "outputs": [
    {
     "name": "stdout",
     "output_type": "stream",
     "text": [
      "Accuracy (Fold 0): 0.9400505902192243\n",
      "Precision (Fold 0): 0.6031872509960159\n",
      "Recall (Fold 0): 0.7804123711340206\n",
      "F1-Score (Fold 0): 0.6804494382022471\n",
      "ROC-AUC Score (Fold 0): 0.9673631819601829\n",
      "\n",
      "Accuracy (Fold 1): 0.939460370994941\n",
      "Precision (Fold 1): 0.5972222222222222\n",
      "Recall (Fold 1): 0.797938144329897\n",
      "F1-Score (Fold 1): 0.6831421006178289\n",
      "ROC-AUC Score (Fold 1): 0.9698063578616531\n",
      "\n",
      "Accuracy (Fold 2): 0.9360876897133221\n",
      "Precision (Fold 2): 0.5787518573551264\n",
      "Recall (Fold 2): 0.8030927835051547\n",
      "F1-Score (Fold 2): 0.6727115716753024\n",
      "ROC-AUC Score (Fold 2): 0.9671247621481923\n",
      "\n",
      "Accuracy (Fold 3): 0.9397976391231029\n",
      "Precision (Fold 3): 0.5989180834621329\n",
      "Recall (Fold 3): 0.7989690721649485\n",
      "F1-Score (Fold 3): 0.6846289752650178\n",
      "ROC-AUC Score (Fold 3): 0.9684437628392641\n",
      "\n",
      "Accuracy (Fold 4): 0.937178514208618\n",
      "Precision (Fold 4): 0.5882352941176471\n",
      "Recall (Fold 4): 0.7731958762886598\n",
      "F1-Score (Fold 4): 0.6681514476614699\n",
      "ROC-AUC Score (Fold 4): 0.9655561320276871\n",
      "\n",
      "Cross-Validation Average F1-Score: 0.6778167066843732\n"
     ]
    }
   ],
   "source": [
    "from imblearn.over_sampling import SMOTE\n",
    "from sklearn.metrics import (accuracy_score, f1_score, precision_score,\n",
    "                             recall_score, roc_auc_score)\n",
    "from sklearn.model_selection import StratifiedKFold\n",
    "\n",
    "kfolds, scores = (\n",
    "    StratifiedKFold(n_splits=5, random_state=RANDOM_STATE, shuffle=True),\n",
    "    [],\n",
    ")\n",
    "\n",
    "for fold_idx, (train_idx, val_idx) in enumerate(kfolds.split(X, y)):\n",
    "    X_train, y_train = X.iloc[train_idx], y.iloc[train_idx]\n",
    "    X_val, y_val = X.iloc[val_idx], y.iloc[val_idx]\n",
    "\n",
    "    sm = SMOTE(sampling_strategy=\"minority\", random_state=RANDOM_STATE)\n",
    "    X_train, y_train = sm.fit_resample(X_train, y_train)  # type: ignore\n",
    "\n",
    "    model.fit(X_train, y_train)\n",
    "    prediction = model.predict(X_val)\n",
    "    # print(prediction)\n",
    "    # exit()\n",
    "    prediction = np.where(prediction == \"True\", True, False)\n",
    "\n",
    "    print(f\"Accuracy (Fold {fold_idx}): {accuracy_score(y_val, prediction)}\")\n",
    "    print(f\"Precision (Fold {fold_idx}): {precision_score(y_val, prediction)}\")\n",
    "    print(f\"Recall (Fold {fold_idx}): {recall_score(y_val, prediction)}\")\n",
    "    print(f\"F1-Score (Fold {fold_idx}): {f1_score(y_val, prediction)}\")\n",
    "    print(\n",
    "        f\"ROC-AUC Score (Fold {fold_idx}): \"\n",
    "        + f\"{roc_auc_score(y_val, model.predict_proba(X_val)[:,1])}\\n\"\n",
    "    )\n",
    "\n",
    "    scores.append(f1_score(y_val, prediction))\n",
    "\n",
    "print(f\"Cross-Validation Average F1-Score: {np.mean(scores)}\")"
   ]
  },
  {
   "cell_type": "markdown",
   "id": "2ffd95aa",
   "metadata": {
    "cell_marker": "\"\"\""
   },
   "source": [
    "# Create Submission"
   ]
  },
  {
   "cell_type": "code",
   "execution_count": 21,
   "id": "bf228245",
   "metadata": {},
   "outputs": [
    {
     "name": "stdout",
     "output_type": "stream",
     "text": [
      "is_converted\n",
      "False    4433\n",
      "True      838\n",
      "Name: count, dtype: int64\n"
     ]
    },
    {
     "data": {
      "text/html": [
       "<div>\n",
       "<style scoped>\n",
       "    .dataframe tbody tr th:only-of-type {\n",
       "        vertical-align: middle;\n",
       "    }\n",
       "\n",
       "    .dataframe tbody tr th {\n",
       "        vertical-align: top;\n",
       "    }\n",
       "\n",
       "    .dataframe thead th {\n",
       "        text-align: right;\n",
       "    }\n",
       "</style>\n",
       "<table border=\"1\" class=\"dataframe\">\n",
       "  <thead>\n",
       "    <tr style=\"text-align: right;\">\n",
       "      <th></th>\n",
       "      <th>id</th>\n",
       "      <th>bant_submit</th>\n",
       "      <th>customer_country</th>\n",
       "      <th>business_unit</th>\n",
       "      <th>com_reg_ver_win_rate</th>\n",
       "      <th>customer_idx</th>\n",
       "      <th>customer_type</th>\n",
       "      <th>enterprise</th>\n",
       "      <th>historical_existing_cnt</th>\n",
       "      <th>id_strategic_ver</th>\n",
       "      <th>...</th>\n",
       "      <th>response_corporate</th>\n",
       "      <th>expected_timeline</th>\n",
       "      <th>ver_cus</th>\n",
       "      <th>ver_pro</th>\n",
       "      <th>ver_win_rate_x</th>\n",
       "      <th>ver_win_ratio_per_bu</th>\n",
       "      <th>business_area</th>\n",
       "      <th>business_subarea</th>\n",
       "      <th>lead_owner</th>\n",
       "      <th>is_converted</th>\n",
       "    </tr>\n",
       "  </thead>\n",
       "  <tbody>\n",
       "    <tr>\n",
       "      <th>0</th>\n",
       "      <td>19844</td>\n",
       "      <td>0.00</td>\n",
       "      <td>/  / Brazil</td>\n",
       "      <td>ID</td>\n",
       "      <td>0.073248</td>\n",
       "      <td>47466</td>\n",
       "      <td>End Customer</td>\n",
       "      <td>Enterprise</td>\n",
       "      <td>53.0</td>\n",
       "      <td>NaN</td>\n",
       "      <td>...</td>\n",
       "      <td>LGESP</td>\n",
       "      <td>NaN</td>\n",
       "      <td>1</td>\n",
       "      <td>0</td>\n",
       "      <td>0.001183</td>\n",
       "      <td>0.049840</td>\n",
       "      <td>retail</td>\n",
       "      <td>Electronics &amp; Telco</td>\n",
       "      <td>278</td>\n",
       "      <td>False</td>\n",
       "    </tr>\n",
       "    <tr>\n",
       "      <th>1</th>\n",
       "      <td>9738</td>\n",
       "      <td>0.25</td>\n",
       "      <td>400 N State Of Franklin Rd  Cloud IT / Johnson...</td>\n",
       "      <td>IT</td>\n",
       "      <td>NaN</td>\n",
       "      <td>5405</td>\n",
       "      <td>End Customer</td>\n",
       "      <td>SMB</td>\n",
       "      <td>NaN</td>\n",
       "      <td>NaN</td>\n",
       "      <td>...</td>\n",
       "      <td>LGEUS</td>\n",
       "      <td>NaN</td>\n",
       "      <td>0</td>\n",
       "      <td>0</td>\n",
       "      <td>0.000013</td>\n",
       "      <td>NaN</td>\n",
       "      <td>transportation</td>\n",
       "      <td>Others</td>\n",
       "      <td>437</td>\n",
       "      <td>True</td>\n",
       "    </tr>\n",
       "    <tr>\n",
       "      <th>2</th>\n",
       "      <td>8491</td>\n",
       "      <td>1.00</td>\n",
       "      <td>/  / U.A.E</td>\n",
       "      <td>ID</td>\n",
       "      <td>NaN</td>\n",
       "      <td>13597</td>\n",
       "      <td>Specifier/ Influencer</td>\n",
       "      <td>SMB</td>\n",
       "      <td>NaN</td>\n",
       "      <td>NaN</td>\n",
       "      <td>...</td>\n",
       "      <td>LGEGF</td>\n",
       "      <td>less than 3 months</td>\n",
       "      <td>0</td>\n",
       "      <td>0</td>\n",
       "      <td>0.000060</td>\n",
       "      <td>0.131148</td>\n",
       "      <td>hospital &amp; health care</td>\n",
       "      <td>General Hospital</td>\n",
       "      <td>874</td>\n",
       "      <td>False</td>\n",
       "    </tr>\n",
       "    <tr>\n",
       "      <th>3</th>\n",
       "      <td>19895</td>\n",
       "      <td>0.50</td>\n",
       "      <td>/ Madison  / United States</td>\n",
       "      <td>ID</td>\n",
       "      <td>0.118644</td>\n",
       "      <td>17204</td>\n",
       "      <td>NaN</td>\n",
       "      <td>Enterprise</td>\n",
       "      <td>NaN</td>\n",
       "      <td>NaN</td>\n",
       "      <td>...</td>\n",
       "      <td>LGEUS</td>\n",
       "      <td>more than a year</td>\n",
       "      <td>0</td>\n",
       "      <td>0</td>\n",
       "      <td>0.001183</td>\n",
       "      <td>0.049840</td>\n",
       "      <td>retail</td>\n",
       "      <td>NaN</td>\n",
       "      <td>194</td>\n",
       "      <td>False</td>\n",
       "    </tr>\n",
       "    <tr>\n",
       "      <th>4</th>\n",
       "      <td>10465</td>\n",
       "      <td>1.00</td>\n",
       "      <td>/ Sao Paulo / Brazil</td>\n",
       "      <td>ID</td>\n",
       "      <td>0.074949</td>\n",
       "      <td>2329</td>\n",
       "      <td>End Customer</td>\n",
       "      <td>Enterprise</td>\n",
       "      <td>2.0</td>\n",
       "      <td>1.0</td>\n",
       "      <td>...</td>\n",
       "      <td>LGESP</td>\n",
       "      <td>less than 3 months</td>\n",
       "      <td>1</td>\n",
       "      <td>1</td>\n",
       "      <td>0.003079</td>\n",
       "      <td>0.064566</td>\n",
       "      <td>corporate / office</td>\n",
       "      <td>Engineering</td>\n",
       "      <td>167</td>\n",
       "      <td>False</td>\n",
       "    </tr>\n",
       "  </tbody>\n",
       "</table>\n",
       "<p>5 rows × 30 columns</p>\n",
       "</div>"
      ],
      "text/plain": [
       "      id  bant_submit                                   customer_country  \\\n",
       "0  19844         0.00                                        /  / Brazil   \n",
       "1   9738         0.25  400 N State Of Franklin Rd  Cloud IT / Johnson...   \n",
       "2   8491         1.00                                         /  / U.A.E   \n",
       "3  19895         0.50                         / Madison  / United States   \n",
       "4  10465         1.00                               / Sao Paulo / Brazil   \n",
       "\n",
       "  business_unit  com_reg_ver_win_rate  customer_idx          customer_type  \\\n",
       "0            ID              0.073248         47466           End Customer   \n",
       "1            IT                   NaN          5405           End Customer   \n",
       "2            ID                   NaN         13597  Specifier/ Influencer   \n",
       "3            ID              0.118644         17204                    NaN   \n",
       "4            ID              0.074949          2329           End Customer   \n",
       "\n",
       "   enterprise  historical_existing_cnt  id_strategic_ver  ...  \\\n",
       "0  Enterprise                     53.0               NaN  ...   \n",
       "1         SMB                      NaN               NaN  ...   \n",
       "2         SMB                      NaN               NaN  ...   \n",
       "3  Enterprise                      NaN               NaN  ...   \n",
       "4  Enterprise                      2.0               1.0  ...   \n",
       "\n",
       "   response_corporate   expected_timeline ver_cus  ver_pro ver_win_rate_x  \\\n",
       "0               LGESP                 NaN       1        0       0.001183   \n",
       "1               LGEUS                 NaN       0        0       0.000013   \n",
       "2               LGEGF  less than 3 months       0        0       0.000060   \n",
       "3               LGEUS    more than a year       0        0       0.001183   \n",
       "4               LGESP  less than 3 months       1        1       0.003079   \n",
       "\n",
       "  ver_win_ratio_per_bu           business_area     business_subarea  \\\n",
       "0             0.049840                  retail  Electronics & Telco   \n",
       "1                  NaN          transportation               Others   \n",
       "2             0.131148  hospital & health care     General Hospital   \n",
       "3             0.049840                  retail                  NaN   \n",
       "4             0.064566      corporate / office          Engineering   \n",
       "\n",
       "  lead_owner is_converted  \n",
       "0        278        False  \n",
       "1        437         True  \n",
       "2        874        False  \n",
       "3        194        False  \n",
       "4        167        False  \n",
       "\n",
       "[5 rows x 30 columns]"
      ]
     },
     "execution_count": 21,
     "metadata": {},
     "output_type": "execute_result"
    }
   ],
   "source": [
    "sm = SMOTE(sampling_strategy=\"minority\", random_state=RANDOM_STATE)\n",
    "X, y = sm.fit_resample(X, y)  # type: ignore\n",
    "model.fit(X, y)\n",
    "\n",
    "prediction = model.predict(X_test)\n",
    "prediction = np.where(prediction == \"True\", True, False)\n",
    "\n",
    "df_submission[\"is_converted\"] = prediction\n",
    "df_submission.to_csv(\"submission.csv\", index=False)\n",
    "print(df_submission[\"is_converted\"].value_counts())\n",
    "df_submission.head()"
   ]
  }
 ],
 "metadata": {
  "jupytext": {
   "cell_metadata_filter": "-all",
   "main_language": "python",
   "notebook_metadata_filter": "-all"
  },
  "kernelspec": {
   "display_name": "Python 3",
   "language": "python",
   "name": "python3"
  },
  "language_info": {
   "codemirror_mode": {
    "name": "ipython",
    "version": 3
   },
   "file_extension": ".py",
   "mimetype": "text/x-python",
   "name": "python",
   "nbconvert_exporter": "python",
   "pygments_lexer": "ipython3",
   "version": "3.11.2"
  }
 },
 "nbformat": 4,
 "nbformat_minor": 5
}
