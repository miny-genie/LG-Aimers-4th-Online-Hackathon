{
 "cells": [
  {
   "cell_type": "markdown",
   "id": "7b45cca1",
   "metadata": {
    "cell_marker": "\"\"\""
   },
   "source": [
    "# Import Dataset and Libraries"
   ]
  },
  {
   "cell_type": "code",
   "execution_count": 1,
   "id": "2f23107c",
   "metadata": {},
   "outputs": [],
   "source": [
    "# %pip install imbalanced-learn==0.10.1\n",
    "# %pip install catboost==1.1.1\n",
    "# %pip install pycountry==22.1.10\n",
    "# %pip install scikit-learn==1.2.2"
   ]
  },
  {
   "cell_type": "code",
   "execution_count": 2,
   "id": "4a80b4e8",
   "metadata": {},
   "outputs": [],
   "source": [
    "import numpy as np\n",
    "import pandas as pd\n",
    "\n",
    "RANDOM_STATE = 42\n",
    "TRAIN_FILE = \"./train.csv\"\n",
    "TEST_FILE = \"./submission.csv\""
   ]
  },
  {
   "cell_type": "code",
   "execution_count": 3,
   "id": "ae2944c2",
   "metadata": {},
   "outputs": [],
   "source": [
    "df_train = pd.read_csv(TRAIN_FILE)\n",
    "df_test = pd.read_csv(TEST_FILE)\n",
    "df_submission = pd.read_csv(TEST_FILE)\n",
    "\n",
    "X, y = df_train.drop(\"is_converted\", axis=1), df_train[\"is_converted\"]\n",
    "X_test = df_test.drop([\"is_converted\", \"id\"], axis=1)"
   ]
  },
  {
   "cell_type": "markdown",
   "id": "0aee8c2b",
   "metadata": {
    "cell_marker": "\"\"\""
   },
   "source": [
    "# Data Preprocessing"
   ]
  },
  {
   "cell_type": "markdown",
   "id": "a3ad484d",
   "metadata": {
    "cell_marker": "\"\"\""
   },
   "source": [
    "## 1. Data Imputation"
   ]
  },
  {
   "cell_type": "code",
   "execution_count": 4,
   "id": "0c4153de",
   "metadata": {},
   "outputs": [],
   "source": [
    "values = {\n",
    "    **{column: 0 for column in X.columns},\n",
    "    \"inquiry_type\": \"Quotation or Purchase Consultation\",\n",
    "    \"customer_country\": \"Not Found\",\n",
    "    \"historical_existing_cnt\": X[\"historical_existing_cnt\"].mode()[0],\n",
    "}\n",
    "\n",
    "X.fillna(value=values, inplace=True)\n",
    "X_test.fillna(value=values, inplace=True)"
   ]
  },
  {
   "cell_type": "markdown",
   "id": "05c51643",
   "metadata": {
    "cell_marker": "\"\"\""
   },
   "source": [
    "## 2. Data Cleaning "
   ]
  },
  {
   "cell_type": "markdown",
   "id": "0ce274d1",
   "metadata": {
    "cell_marker": "\"\"\"",
    "lines_to_next_cell": 2
   },
   "source": [
    "### Feature: Customer Country"
   ]
  },
  {
   "cell_type": "code",
   "execution_count": 5,
   "id": "baad9113",
   "metadata": {},
   "outputs": [],
   "source": [
    "import pycountry\n",
    "\n",
    "\n",
    "def preprocess_country(country):\n",
    "    if not isinstance(country, str):\n",
    "        return \"Not Found\"\n",
    "\n",
    "    country = country.split(\"/\")[-1].strip()\n",
    "    country = pycountry.countries.get(name=country)\n",
    "    return \"Not Found\" if country is None else country.alpha_3\n",
    "\n",
    "\n",
    "X[\"customer_country\"] = [\n",
    "    preprocess_country(country) for country in X[\"customer_country\"]\n",
    "]\n",
    "\n",
    "X_test[\"customer_country\"] = [\n",
    "    preprocess_country(country) for country in X_test[\"customer_country\"]\n",
    "]"
   ]
  },
  {
   "cell_type": "markdown",
   "id": "10c135fc",
   "metadata": {
    "cell_marker": "\"\"\""
   },
   "source": [
    "### Feature: Business Unit (\"business_unit\")"
   ]
  },
  {
   "cell_type": "code",
   "execution_count": 6,
   "id": "bcf35cf0",
   "metadata": {},
   "outputs": [],
   "source": [
    "X[\"business_unit\"] = X[\"business_unit\"].astype(\n",
    "    pd.CategoricalDtype(categories=[\"ID\", \"AS\", \"IT\", \"Solution\", \"CM\"])\n",
    ")\n",
    "X_test[\"business_unit\"] = X_test[\"business_unit\"].astype(\n",
    "    pd.CategoricalDtype(categories=[\"ID\", \"AS\", \"IT\", \"Solution\", \"CM\"])\n",
    ")"
   ]
  },
  {
   "cell_type": "markdown",
   "id": "bea9b778",
   "metadata": {
    "cell_marker": "\"\"\""
   },
   "source": [
    "### Feature: Inquiry Type (\"inquiry_type\")"
   ]
  },
  {
   "cell_type": "code",
   "execution_count": 7,
   "id": "188321b1",
   "metadata": {},
   "outputs": [],
   "source": [
    "inquiry_type_remap = {\n",
    "    # Quotation: Asking about the product itself.\n",
    "    \"Q\": [\n",
    "        \"Quotation or Purchase Consultation\",\n",
    "        \"Quotation or purchase consultation\",\n",
    "        \"Quotation or Purchase consultation\",\n",
    "        \"quotation_or_purchase_consultation\",\n",
    "        \"Purchase or Quotation\",\n",
    "        \"Purchase\",\n",
    "        \"Request for quotation or purchase\",\n",
    "        \"Sales Inquiry\",\n",
    "        \"sales\",\n",
    "        \"quotation_\",\n",
    "    ],\n",
    "    # Usage: Asking about how to use the product.\n",
    "    \"U\": [\n",
    "        \"Usage or Technical Consultation\",\n",
    "        \"Usage or technical consultation\",\n",
    "        \"usage or technical consultation\",\n",
    "        \"usage_or_technical_consultation\",\n",
    "        \"Technical Consultation\",\n",
    "        \"Technical Support\",\n",
    "        \"technical\",\n",
    "        \"technical_consultation\",\n",
    "        \"Request for technical consulting\",\n",
    "        \"Product Information\",\n",
    "        \"i want to know the details about it\",\n",
    "        \"first Info and pricing\",\n",
    "        \"Toi muon tim hieu thong tin ky thuat, gia ca cua sp de su dung\",\n",
    "        \"tôi cần tham khảo giá và giải pháp từ LG\",\n",
    "        \"Trainings\",\n",
    "    ],\n",
    "    \"O\": [\n",
    "        \"Other\",\n",
    "        \"Others\",\n",
    "        \"other_\",\n",
    "        \"other\",\n",
    "        \"others\",\n",
    "        \"Etc.\",\n",
    "        \"ETC.\",\n",
    "        \"Not specified\",\n",
    "        \"(Select ID_Needs)\",\n",
    "        \"IDB\",\n",
    "        \"Services\",\n",
    "        \"Request for Partnership\",\n",
    "        \"Request a Demo\",\n",
    "        \"Request for Distributorship\",\n",
    "        \"Customer Suggestions\",\n",
    "        *(\n",
    "            df_train[\"inquiry_type\"]\n",
    "            .value_counts()\n",
    "            .loc[df_train[\"inquiry_type\"].value_counts() < 10]\n",
    "            .index.tolist()\n",
    "        ),\n",
    "    ],\n",
    "}\n",
    "\n",
    "for key, value in inquiry_type_remap.items():\n",
    "    X.loc[X[\"inquiry_type\"].isin(value), \"inquiry_type\"] = key\n",
    "    X_test.loc[X_test[\"inquiry_type\"].isin(value), \"inquiry_type\"] = key"
   ]
  },
  {
   "cell_type": "markdown",
   "id": "f8228c55",
   "metadata": {},
   "source": [
    "### Feature: Customer Position (\"customer_position\")"
   ]
  },
  {
   "cell_type": "code",
   "execution_count": 8,
   "id": "22264843",
   "metadata": {},
   "outputs": [],
   "source": [
    "X['customer_position'] = X['customer_position'].replace('decision maker', 'decision-maker')\n",
    "X['customer_position'] = X['customer_position'].replace('decision influencer', 'decision-influencer')\n",
    "X['customer_position'] = X['customer_position'].replace('architect/consultant', 'architecture/consult')\n",
    "X['customer_position'] = X['customer_position'].replace('physics and mathematics teacher', 'math and physics teacher')\n",
    "X['customer_position'] = X['customer_position'].replace('vicepresident', 'vice president')\n",
    "X['customer_position'] = X['customer_position'].replace('others', 'other')\n",
    "\n",
    "X_test['customer_position'] = X_test['customer_position'].replace('decision influencer', 'decision-influencer')\n",
    "X_test['customer_position'] = X_test['customer_position'].replace('architect/consultant', 'architecture/consult')\n",
    "X_test['customer_position'] = X_test['customer_position'].replace('physics and mathematics teacher', 'math and physics teacher')\n",
    "X_test['customer_position'] = X_test['customer_position'].replace('vicepresident', 'vice president')\n",
    "X_test['customer_position'] = X_test['customer_position'].replace('others', 'other')"
   ]
  },
  {
   "cell_type": "code",
   "execution_count": 9,
   "id": "efd9862f",
   "metadata": {},
   "outputs": [],
   "source": [
    "# Classification by position and occupation\n",
    "C_position_high_executive = [\n",
    "    'manager', 'ceo/founder', 'c-level executive',\n",
    "    'vice president', 'c-levelexecutive', 'founder',\n",
    "    'commercial consultant', 'government',\n",
    "    'operations', 'other - please specify - cedia association',\n",
    "    'leadership/executive office/owner', 'market intelligence/research',\n",
    "    'chairman', 'co-founder', 'chief executive officer',\n",
    "    'ceo/fundador', 'gerente', 'president', 'genel müdür', 'bulgaria',\n",
    "]\n",
    "\n",
    "C_position_low_executive = [\n",
    "    'director', 'intern', 'trainee', 'entry level',\n",
    "    'employee', 'administrative', 'manufacturer',\n",
    "    'system integrator', 'distributor', 'business unit director',\n",
    "    'business development', 'product management', 'business partner',\n",
    "    'subsidiary sales (ise)', 'business development/sales',\n",
    "    'sales',\n",
    "]\n",
    "\n",
    "C_position_education = [\n",
    "    'physics teacher', 'assistant professor',\n",
    "    'maths lecturer', 'science teacher', 'physics faculty',\n",
    "    'teacher/middle school coordinator', 'math and physics teacher',\n",
    "    'professor of mathematics', 'prof.', 'professor of mathematics',\n",
    "    'academic specialist', 'principal at oxford integrated pu science college'\n",
    "    'assistant professor of English', 'educator', 'professor',\n",
    "    'quantitative aptitude faculty', 'english trainer for ielts,toefl,pte,gre,sat exams.'\n",
    "    'associate professor', 'principal & director', 'hon dean',\n",
    "    'pgt physics', 'education professional', 'chemistry teacher',\n",
    "    'director cum faculty at gaining apex coaching centre',\n",
    "    'academic coordinator/ post graduate teacher (accountancy, business studies)/ tgt (ict)',\n",
    "    'teacher', 'senior lecturer', 'neet/ olympiad expert faculty',\n",
    "    'asst prof.', 'associate professor in electronics engg', 'professional trainer',\n",
    "    'education',\n",
    "]\n",
    "\n",
    "C_position_hospital = [\n",
    "    'hospital', 'medical device manufacturer', 'vp', 'medical imaging specialist',\n",
    "    'tierarzt', 'főorvos', 'surgery professional', 'pathologist', 'radiology professional'\n",
    "]\n",
    "\n",
    "C_position_others = [\n",
    "    'entry level', 'customer', 'technical',\n",
    "    'exhibition', 'end-user', 'cargo', 'técnico', 'exhibitiontv',\n",
    "    'proprietário(a)', 'mindenes', 'research', 'the big boss',\n",
    "    'partner', 'associate/analyst', 'none', 'unpaid', 'av management',\n",
    "    'engineering', 'installer', 'homeowner', 'commercial end-user'\n",
    "    'lider de desarrollo', 'entrepreneurship', 'not applicable',\n",
    "    'no influence',\n",
    "]\n",
    "\n",
    "C_position_consultant = [\n",
    "    'consultant', 'software/solution provider', 'guest faculty',\n",
    "    'career coach', 'consulting',\n",
    "]\n"
   ]
  },
  {
   "cell_type": "code",
   "execution_count": 10,
   "id": "c313ad7a",
   "metadata": {},
   "outputs": [],
   "source": [
    "position_category= {\n",
    "    'High Executive': C_position_high_executive,\n",
    "    'Low Executive': C_position_low_executive,\n",
    "    'Education': C_position_education,\n",
    "    'Hospital': C_position_hospital,\n",
    "    'Consultant': C_position_consultant,\n",
    "    'Others': C_position_others\n",
    "}\n",
    "\n",
    "for category, positions in position_category.items():\n",
    "    X.loc[X['customer_position'].isin(positions), 'C_position_1'] = category\n",
    "    X_test.loc[X_test['customer_position'].isin(positions), 'C_position_1'] = category\n",
    "\n",
    "# 'Hospital', 'Consultant', 'Education'는 무의미한 데이터로 판단 -> Others로 대체\n",
    "categories_drop = ['Hospital', 'Consultant', 'Education']\n",
    "X.loc[X['C_position_1'].isin(categories_drop), 'C_position_1'] = 'Others'\n",
    "X_test.loc[X_test['C_position_1'].isin(categories_drop), 'C_position_1'] = 'Others'\n",
    "\n",
    "# C_position_category one_hot_encoding\n",
    "X_encoded = pd.get_dummies(X, columns=['C_position_1'])\n",
    "X_test_encoded = pd.get_dummies(X_test, columns=['C_position_1'])\n",
    "\n",
    "col =['C_position_1_High Executive', 'C_position_1_Low Executive', 'C_position_1_Others', 'C_position_1_nan']\n",
    "\n",
    "\n",
    "X[col] = X_encoded[col].astype(int)\n",
    "X_test[col] = X_test_encoded[col].astype(int)\n",
    "\n",
    "# 기존 열 drop\n",
    "X.drop(['C_position_1'], axis=1, inplace=True)\n",
    "X.drop(['customer_position'], axis=1, inplace=True)\n",
    "\n",
    "X_test.drop(['C_position_1'], axis=1, inplace=True)\n",
    "X_test.drop(['customer_position'], axis=1, inplace=True)\n",
    "\n",
    "# 결측치 처리\n",
    "X.loc[X['C_position_1_nan'] == 1, 'C_position_1_High Executive'] = 1\n",
    "X.drop(['C_position_1_nan'], axis=1, inplace=True)\n",
    "X_test.loc[X_test['C_position_1_nan'] == 1, 'C_position_1_High Executive'] = 1\n",
    "X_test.drop(['C_position_1_nan'], axis=1, inplace=True)"
   ]
  },
  {
   "cell_type": "markdown",
   "id": "e8163dc0",
   "metadata": {
    "cell_marker": "\"\"\""
   },
   "source": [
    "## 3. Feature Engineering"
   ]
  },
  {
   "cell_type": "code",
   "execution_count": 11,
   "id": "2d668045",
   "metadata": {},
   "outputs": [],
   "source": [
    "country_frequency = X[\"customer_country\"].value_counts(normalize=True)\n",
    "X[\"customer_country_frequency\"] = X[\"customer_country\"].map(country_frequency)\n",
    "X_test[\"customer_country_frequency\"] = X_test[\"customer_country\"].map(country_frequency)\n",
    "\n",
    "country_target = (\n",
    "    pd.concat([X, y], axis=1).groupby(\"customer_country\")[\"is_converted\"].mean()\n",
    ")\n",
    "X[\"customer_country_target\"] = X[\"customer_country\"].map(country_target)\n",
    "X_test[\"customer_country_target\"] = X_test[\"customer_country\"].map(country_target)\n",
    "\n",
    "owner_frequency = X[\"lead_owner\"].value_counts(normalize=True)\n",
    "X[\"lead_owner_frequency\"] = X[\"lead_owner\"].map(owner_frequency)\n",
    "X_test[\"lead_owner_frequency\"] = X_test[\"lead_owner\"].map(owner_frequency)\n",
    "\n",
    "owner_target = pd.concat([X, y], axis=1).groupby(\"lead_owner\")[\"is_converted\"].mean()\n",
    "X[\"lead_owner_target\"] = X[\"lead_owner\"].map(owner_target)\n",
    "X_test[\"lead_owner_target\"] = X_test[\"lead_owner\"].map(owner_target)"
   ]
  },
  {
   "cell_type": "markdown",
   "id": "b6951005",
   "metadata": {
    "cell_marker": "\"\"\""
   },
   "source": [
    "## 4. Feature Encoding"
   ]
  },
  {
   "cell_type": "code",
   "execution_count": 12,
   "id": "c9d91ba9",
   "metadata": {},
   "outputs": [],
   "source": [
    "def encode_features(\n",
    "    df: pd.DataFrame,\n",
    "    features=[\"enterprise\", \"business_unit\", \"inquiry_type\", \"bant_submit\"],\n",
    ") -> pd.DataFrame:\n",
    "    df_encoded = pd.get_dummies(df[features], columns=features)\n",
    "    df_encoded = df_encoded.apply(lambda x: x.astype(\"category\").cat.codes)\n",
    "    df = pd.concat([df, df_encoded], axis=1).drop(features, axis=1)\n",
    "    return df\n",
    "\n",
    "\n",
    "X = encode_features(X)\n",
    "X_test = encode_features(X_test)"
   ]
  },
  {
   "cell_type": "markdown",
   "id": "61d05d9a",
   "metadata": {
    "cell_marker": "\"\"\""
   },
   "source": [
    "## 5. Feature Normalization"
   ]
  },
  {
   "cell_type": "code",
   "execution_count": 13,
   "id": "62d58adc",
   "metadata": {},
   "outputs": [],
   "source": [
    "from sklearn.compose import ColumnTransformer\n",
    "from sklearn.pipeline import Pipeline\n",
    "from sklearn.preprocessing import StandardScaler\n",
    "\n",
    "standard_transformer = Pipeline(steps=[(\"standardize\", StandardScaler())])\n",
    "column_transformer = ColumnTransformer(\n",
    "    transformers=[\n",
    "        (\"std\", standard_transformer, [\"lead_desc_length\", \"historical_existing_cnt\"]),\n",
    "    ],\n",
    "    verbose_feature_names_out=False,\n",
    "    remainder=\"passthrough\",\n",
    ")\n",
    "column_transformer.set_output(transform=\"pandas\")\n",
    "\n",
    "X = column_transformer.fit_transform(X)\n",
    "X_test = column_transformer.transform(X_test)"
   ]
  },
  {
   "cell_type": "markdown",
   "id": "5160342d",
   "metadata": {
    "cell_marker": "\"\"\""
   },
   "source": [
    "## 6. Outlier Removal"
   ]
  },
  {
   "cell_type": "markdown",
   "id": "c8f7cd4f",
   "metadata": {
    "cell_marker": "\"\"\""
   },
   "source": [
    "## 7. Feature Removal"
   ]
  },
  {
   "cell_type": "code",
   "execution_count": 14,
   "id": "4e0a1665",
   "metadata": {},
   "outputs": [],
   "source": [
    "features_to_drop = [\n",
    "    \"customer_country\",\n",
    "    \"business_subarea\",\n",
    "    \"business_area\",\n",
    "    \"customer_idx\",\n",
    "    \"product_category\",\n",
    "    \"product_subcategory\",\n",
    "    \"product_modelname\",\n",
    "    \"customer_country.1\",\n",
    "    \"customer_job\",\n",
    "    \"customer_type\",\n",
    "    \"response_corporate\",\n",
    "    \"expected_timeline\",\n",
    "    \"lead_owner\",\n",
    "]\n",
    "\n",
    "X = X.drop(features_to_drop, axis=1)  # type: ignore\n",
    "X_test = X_test.drop(features_to_drop, axis=1)  # type: ignore"
   ]
  },
  {
   "cell_type": "markdown",
   "id": "9a6c83e2",
   "metadata": {
    "cell_marker": "\"\"\""
   },
   "source": [
    "# Modeling"
   ]
  },
  {
   "cell_type": "code",
   "execution_count": 15,
   "id": "5db1372d",
   "metadata": {},
   "outputs": [],
   "source": [
    "from catboost import CatBoostClassifier\n",
    "\n",
    "model = CatBoostClassifier(random_state=RANDOM_STATE, verbose=False)"
   ]
  },
  {
   "cell_type": "markdown",
   "id": "70c31bd8",
   "metadata": {
    "cell_marker": "\"\"\""
   },
   "source": [
    "# K-Fold Cross Validation"
   ]
  },
  {
   "cell_type": "code",
   "execution_count": 16,
   "id": "5b785576",
   "metadata": {},
   "outputs": [
    {
     "name": "stdout",
     "output_type": "stream",
     "text": [
      "Accuracy (Fold 0): 0.9397133220910624\n",
      "Precision (Fold 0): 0.6058091286307054\n",
      "Recall (Fold 0): 0.7525773195876289\n",
      "F1-Score (Fold 0): 0.6712643678160918\n",
      "ROC-AUC Score (Fold 0): 0.9661958384217053\n",
      "\n",
      "Accuracy (Fold 1): 0.9430016863406409\n",
      "Precision (Fold 1): 0.6210873146622735\n",
      "Recall (Fold 1): 0.777319587628866\n",
      "F1-Score (Fold 1): 0.6904761904761905\n",
      "ROC-AUC Score (Fold 1): 0.9716069788797062\n",
      "\n",
      "Accuracy (Fold 2): 0.9411467116357505\n",
      "Precision (Fold 2): 0.6096774193548387\n",
      "Recall (Fold 2): 0.7793814432989691\n",
      "F1-Score (Fold 2): 0.6841628959276017\n",
      "ROC-AUC Score (Fold 2): 0.9669134645423305\n",
      "\n",
      "Accuracy (Fold 3): 0.9412310286677908\n",
      "Precision (Fold 3): 0.6101694915254238\n",
      "Recall (Fold 3): 0.7793814432989691\n",
      "F1-Score (Fold 3): 0.6844726120416479\n",
      "ROC-AUC Score (Fold 3): 0.9680258063294613\n",
      "\n",
      "Accuracy (Fold 4): 0.9376001349186271\n",
      "Precision (Fold 4): 0.5942622950819673\n",
      "Recall (Fold 4): 0.7474226804123711\n",
      "F1-Score (Fold 4): 0.6621004566210045\n",
      "ROC-AUC Score (Fold 4): 0.9635724787996588\n",
      "\n",
      "Cross-Validation Average F1-Score: 0.6784953045765073\n"
     ]
    }
   ],
   "source": [
    "from imblearn.over_sampling import SMOTE\n",
    "from sklearn.metrics import (accuracy_score, f1_score, precision_score,\n",
    "                             recall_score, roc_auc_score)\n",
    "from sklearn.model_selection import StratifiedKFold\n",
    "\n",
    "kfolds, scores = (\n",
    "    StratifiedKFold(n_splits=5, random_state=RANDOM_STATE, shuffle=True),\n",
    "    [],\n",
    ")\n",
    "\n",
    "for fold_idx, (train_idx, val_idx) in enumerate(kfolds.split(X, y)):\n",
    "    X_train, y_train = X.iloc[train_idx], y.iloc[train_idx]\n",
    "    X_val, y_val = X.iloc[val_idx], y.iloc[val_idx]\n",
    "\n",
    "    sm = SMOTE(sampling_strategy=\"minority\", random_state=RANDOM_STATE)\n",
    "    X_train, y_train = sm.fit_resample(X_train, y_train)  # type: ignore\n",
    "\n",
    "    model.fit(X_train, y_train)\n",
    "    prediction = model.predict(X_val)\n",
    "    # print(prediction)\n",
    "    # exit()\n",
    "    prediction = np.where(prediction == \"True\", True, False)\n",
    "\n",
    "    print(f\"Accuracy (Fold {fold_idx}): {accuracy_score(y_val, prediction)}\")\n",
    "    print(f\"Precision (Fold {fold_idx}): {precision_score(y_val, prediction)}\")\n",
    "    print(f\"Recall (Fold {fold_idx}): {recall_score(y_val, prediction)}\")\n",
    "    print(f\"F1-Score (Fold {fold_idx}): {f1_score(y_val, prediction)}\")\n",
    "    print(\n",
    "        f\"ROC-AUC Score (Fold {fold_idx}): \"\n",
    "        + f\"{roc_auc_score(y_val, model.predict_proba(X_val)[:,1])}\\n\"\n",
    "    )\n",
    "\n",
    "    scores.append(f1_score(y_val, prediction))\n",
    "\n",
    "print(f\"Cross-Validation Average F1-Score: {np.mean(scores)}\")"
   ]
  },
  {
   "cell_type": "markdown",
   "id": "2ffd95aa",
   "metadata": {
    "cell_marker": "\"\"\""
   },
   "source": [
    "# Create Submission"
   ]
  },
  {
   "cell_type": "code",
   "execution_count": 17,
   "id": "bf228245",
   "metadata": {},
   "outputs": [
    {
     "name": "stdout",
     "output_type": "stream",
     "text": [
      "is_converted\n",
      "False    4321\n",
      "True      950\n",
      "Name: count, dtype: int64\n"
     ]
    },
    {
     "data": {
      "text/html": [
       "<div>\n",
       "<style scoped>\n",
       "    .dataframe tbody tr th:only-of-type {\n",
       "        vertical-align: middle;\n",
       "    }\n",
       "\n",
       "    .dataframe tbody tr th {\n",
       "        vertical-align: top;\n",
       "    }\n",
       "\n",
       "    .dataframe thead th {\n",
       "        text-align: right;\n",
       "    }\n",
       "</style>\n",
       "<table border=\"1\" class=\"dataframe\">\n",
       "  <thead>\n",
       "    <tr style=\"text-align: right;\">\n",
       "      <th></th>\n",
       "      <th>id</th>\n",
       "      <th>bant_submit</th>\n",
       "      <th>customer_country</th>\n",
       "      <th>business_unit</th>\n",
       "      <th>com_reg_ver_win_rate</th>\n",
       "      <th>customer_idx</th>\n",
       "      <th>customer_type</th>\n",
       "      <th>enterprise</th>\n",
       "      <th>historical_existing_cnt</th>\n",
       "      <th>id_strategic_ver</th>\n",
       "      <th>...</th>\n",
       "      <th>response_corporate</th>\n",
       "      <th>expected_timeline</th>\n",
       "      <th>ver_cus</th>\n",
       "      <th>ver_pro</th>\n",
       "      <th>ver_win_rate_x</th>\n",
       "      <th>ver_win_ratio_per_bu</th>\n",
       "      <th>business_area</th>\n",
       "      <th>business_subarea</th>\n",
       "      <th>lead_owner</th>\n",
       "      <th>is_converted</th>\n",
       "    </tr>\n",
       "  </thead>\n",
       "  <tbody>\n",
       "    <tr>\n",
       "      <th>0</th>\n",
       "      <td>19844</td>\n",
       "      <td>0.00</td>\n",
       "      <td>/  / Brazil</td>\n",
       "      <td>ID</td>\n",
       "      <td>0.073248</td>\n",
       "      <td>47466</td>\n",
       "      <td>End Customer</td>\n",
       "      <td>Enterprise</td>\n",
       "      <td>53.0</td>\n",
       "      <td>NaN</td>\n",
       "      <td>...</td>\n",
       "      <td>LGESP</td>\n",
       "      <td>NaN</td>\n",
       "      <td>1</td>\n",
       "      <td>0</td>\n",
       "      <td>0.001183</td>\n",
       "      <td>0.049840</td>\n",
       "      <td>retail</td>\n",
       "      <td>Electronics &amp; Telco</td>\n",
       "      <td>278</td>\n",
       "      <td>False</td>\n",
       "    </tr>\n",
       "    <tr>\n",
       "      <th>1</th>\n",
       "      <td>9738</td>\n",
       "      <td>0.25</td>\n",
       "      <td>400 N State Of Franklin Rd  Cloud IT / Johnson...</td>\n",
       "      <td>IT</td>\n",
       "      <td>NaN</td>\n",
       "      <td>5405</td>\n",
       "      <td>End Customer</td>\n",
       "      <td>SMB</td>\n",
       "      <td>NaN</td>\n",
       "      <td>NaN</td>\n",
       "      <td>...</td>\n",
       "      <td>LGEUS</td>\n",
       "      <td>NaN</td>\n",
       "      <td>0</td>\n",
       "      <td>0</td>\n",
       "      <td>0.000013</td>\n",
       "      <td>NaN</td>\n",
       "      <td>transportation</td>\n",
       "      <td>Others</td>\n",
       "      <td>437</td>\n",
       "      <td>True</td>\n",
       "    </tr>\n",
       "    <tr>\n",
       "      <th>2</th>\n",
       "      <td>8491</td>\n",
       "      <td>1.00</td>\n",
       "      <td>/  / U.A.E</td>\n",
       "      <td>ID</td>\n",
       "      <td>NaN</td>\n",
       "      <td>13597</td>\n",
       "      <td>Specifier/ Influencer</td>\n",
       "      <td>SMB</td>\n",
       "      <td>NaN</td>\n",
       "      <td>NaN</td>\n",
       "      <td>...</td>\n",
       "      <td>LGEGF</td>\n",
       "      <td>less than 3 months</td>\n",
       "      <td>0</td>\n",
       "      <td>0</td>\n",
       "      <td>0.000060</td>\n",
       "      <td>0.131148</td>\n",
       "      <td>hospital &amp; health care</td>\n",
       "      <td>General Hospital</td>\n",
       "      <td>874</td>\n",
       "      <td>False</td>\n",
       "    </tr>\n",
       "    <tr>\n",
       "      <th>3</th>\n",
       "      <td>19895</td>\n",
       "      <td>0.50</td>\n",
       "      <td>/ Madison  / United States</td>\n",
       "      <td>ID</td>\n",
       "      <td>0.118644</td>\n",
       "      <td>17204</td>\n",
       "      <td>NaN</td>\n",
       "      <td>Enterprise</td>\n",
       "      <td>NaN</td>\n",
       "      <td>NaN</td>\n",
       "      <td>...</td>\n",
       "      <td>LGEUS</td>\n",
       "      <td>more than a year</td>\n",
       "      <td>0</td>\n",
       "      <td>0</td>\n",
       "      <td>0.001183</td>\n",
       "      <td>0.049840</td>\n",
       "      <td>retail</td>\n",
       "      <td>NaN</td>\n",
       "      <td>194</td>\n",
       "      <td>False</td>\n",
       "    </tr>\n",
       "    <tr>\n",
       "      <th>4</th>\n",
       "      <td>10465</td>\n",
       "      <td>1.00</td>\n",
       "      <td>/ Sao Paulo / Brazil</td>\n",
       "      <td>ID</td>\n",
       "      <td>0.074949</td>\n",
       "      <td>2329</td>\n",
       "      <td>End Customer</td>\n",
       "      <td>Enterprise</td>\n",
       "      <td>2.0</td>\n",
       "      <td>1.0</td>\n",
       "      <td>...</td>\n",
       "      <td>LGESP</td>\n",
       "      <td>less than 3 months</td>\n",
       "      <td>1</td>\n",
       "      <td>1</td>\n",
       "      <td>0.003079</td>\n",
       "      <td>0.064566</td>\n",
       "      <td>corporate / office</td>\n",
       "      <td>Engineering</td>\n",
       "      <td>167</td>\n",
       "      <td>False</td>\n",
       "    </tr>\n",
       "  </tbody>\n",
       "</table>\n",
       "<p>5 rows × 30 columns</p>\n",
       "</div>"
      ],
      "text/plain": [
       "      id  bant_submit                                   customer_country  \\\n",
       "0  19844         0.00                                        /  / Brazil   \n",
       "1   9738         0.25  400 N State Of Franklin Rd  Cloud IT / Johnson...   \n",
       "2   8491         1.00                                         /  / U.A.E   \n",
       "3  19895         0.50                         / Madison  / United States   \n",
       "4  10465         1.00                               / Sao Paulo / Brazil   \n",
       "\n",
       "  business_unit  com_reg_ver_win_rate  customer_idx          customer_type  \\\n",
       "0            ID              0.073248         47466           End Customer   \n",
       "1            IT                   NaN          5405           End Customer   \n",
       "2            ID                   NaN         13597  Specifier/ Influencer   \n",
       "3            ID              0.118644         17204                    NaN   \n",
       "4            ID              0.074949          2329           End Customer   \n",
       "\n",
       "   enterprise  historical_existing_cnt  id_strategic_ver  ...  \\\n",
       "0  Enterprise                     53.0               NaN  ...   \n",
       "1         SMB                      NaN               NaN  ...   \n",
       "2         SMB                      NaN               NaN  ...   \n",
       "3  Enterprise                      NaN               NaN  ...   \n",
       "4  Enterprise                      2.0               1.0  ...   \n",
       "\n",
       "   response_corporate   expected_timeline ver_cus  ver_pro ver_win_rate_x  \\\n",
       "0               LGESP                 NaN       1        0       0.001183   \n",
       "1               LGEUS                 NaN       0        0       0.000013   \n",
       "2               LGEGF  less than 3 months       0        0       0.000060   \n",
       "3               LGEUS    more than a year       0        0       0.001183   \n",
       "4               LGESP  less than 3 months       1        1       0.003079   \n",
       "\n",
       "  ver_win_ratio_per_bu           business_area     business_subarea  \\\n",
       "0             0.049840                  retail  Electronics & Telco   \n",
       "1                  NaN          transportation               Others   \n",
       "2             0.131148  hospital & health care     General Hospital   \n",
       "3             0.049840                  retail                  NaN   \n",
       "4             0.064566      corporate / office          Engineering   \n",
       "\n",
       "  lead_owner is_converted  \n",
       "0        278        False  \n",
       "1        437         True  \n",
       "2        874        False  \n",
       "3        194        False  \n",
       "4        167        False  \n",
       "\n",
       "[5 rows x 30 columns]"
      ]
     },
     "execution_count": 17,
     "metadata": {},
     "output_type": "execute_result"
    }
   ],
   "source": [
    "sm = SMOTE(sampling_strategy=\"minority\", random_state=RANDOM_STATE)\n",
    "X, y = sm.fit_resample(X, y)  # type: ignore\n",
    "model.fit(X, y)\n",
    "\n",
    "prediction = model.predict(X_test)\n",
    "prediction = np.where(prediction == \"True\", True, False)\n",
    "\n",
    "df_submission[\"is_converted\"] = prediction\n",
    "df_submission.to_csv(\"submission.csv\", index=False)\n",
    "print(df_submission[\"is_converted\"].value_counts())\n",
    "df_submission.head()"
   ]
  },
  {
   "cell_type": "code",
   "execution_count": null,
   "id": "c3c6f9d4",
   "metadata": {},
   "outputs": [],
   "source": []
  },
  {
   "cell_type": "code",
   "execution_count": null,
   "id": "3c4490ce",
   "metadata": {},
   "outputs": [],
   "source": []
  }
 ],
 "metadata": {
  "kernelspec": {
   "display_name": "Python 3 (ipykernel)",
   "language": "python",
   "name": "python3"
  },
  "language_info": {
   "codemirror_mode": {
    "name": "ipython",
    "version": 3
   },
   "file_extension": ".py",
   "mimetype": "text/x-python",
   "name": "python",
   "nbconvert_exporter": "python",
   "pygments_lexer": "ipython3",
   "version": "3.11.5"
  }
 },
 "nbformat": 4,
 "nbformat_minor": 5
}
