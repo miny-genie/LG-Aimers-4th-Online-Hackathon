{
 "cells": [
  {
   "cell_type": "markdown",
   "id": "ca0686be",
   "metadata": {},
   "source": [
    "# Import and Read the Data"
   ]
  },
  {
   "cell_type": "code",
   "execution_count": 9,
   "id": "637602c8",
   "metadata": {},
   "outputs": [],
   "source": [
    "from typing import Any\n",
    "import numpy as np\n",
    "import pandas as pd"
   ]
  },
  {
   "cell_type": "code",
   "execution_count": 2,
   "id": "1e464ec7",
   "metadata": {},
   "outputs": [],
   "source": [
    "TRAIN_FILE = \"./train.csv\"\n",
    "TEST_FILE = \"./submission.csv\"\n",
    "\n",
    "df_train = pd.read_csv(TRAIN_FILE)\n",
    "df_test = pd.read_csv(TEST_FILE)\n",
    "df_submission = pd.read_csv(TEST_FILE)\n",
    "\n",
    "X, y = df_train.drop(\"is_converted\", axis=1), df_train[\"is_converted\"]\n",
    "X_test = df_test.drop([\"is_converted\", \"id\"], axis=1)"
   ]
  },
  {
   "cell_type": "markdown",
   "id": "a0a34741",
   "metadata": {},
   "source": [
    "# Basic Text Cleaning"
   ]
  },
  {
   "cell_type": "code",
   "execution_count": null,
   "id": "01a6c7a9",
   "metadata": {},
   "outputs": [],
   "source": []
  },
  {
   "cell_type": "markdown",
   "id": "e455e795",
   "metadata": {},
   "source": [
    "## Checking data type"
   ]
  },
  {
   "cell_type": "code",
   "execution_count": 10,
   "id": "67e59d8f",
   "metadata": {},
   "outputs": [],
   "source": [
    "def check_data_type(data: Any) -> Any:\n",
    "    return type(data)"
   ]
  },
  {
   "cell_type": "markdown",
   "id": "215dc408",
   "metadata": {},
   "source": [
    "## Normalizing Case"
   ]
  },
  {
   "cell_type": "code",
   "execution_count": 51,
   "id": "98d79030",
   "metadata": {},
   "outputs": [],
   "source": [
    "def lower_case(text: str) -> str:\n",
    "    return text.lower()"
   ]
  },
  {
   "cell_type": "markdown",
   "id": "cb912282",
   "metadata": {},
   "source": [
    "## White-Space split"
   ]
  },
  {
   "cell_type": "code",
   "execution_count": 107,
   "id": "2b083bc5",
   "metadata": {},
   "outputs": [],
   "source": [
    "def white_space_split(sentence: Any) -> set:\n",
    "    return set(str(sentence).split())"
   ]
  },
  {
   "cell_type": "markdown",
   "id": "a098f177",
   "metadata": {},
   "source": [
    "## Removing Punctuation"
   ]
  },
  {
   "cell_type": "code",
   "execution_count": 115,
   "id": "57224c5d",
   "metadata": {},
   "outputs": [],
   "source": [
    "import re\n",
    "import string\n",
    "\n",
    "def remove_punctuation(text: str) -> str:\n",
    "    re_punc = re.compile('[{}]'.format(string.punctuation))\n",
    "    return re_punc.sub('', text)"
   ]
  },
  {
   "cell_type": "markdown",
   "id": "982697fa",
   "metadata": {},
   "source": [
    "## How many values"
   ]
  },
  {
   "cell_type": "code",
   "execution_count": 111,
   "id": "a4ac8ab0",
   "metadata": {},
   "outputs": [
    {
     "data": {
      "text/html": [
       "<div>\n",
       "<style scoped>\n",
       "    .dataframe tbody tr th:only-of-type {\n",
       "        vertical-align: middle;\n",
       "    }\n",
       "\n",
       "    .dataframe tbody tr th {\n",
       "        vertical-align: top;\n",
       "    }\n",
       "\n",
       "    .dataframe thead th {\n",
       "        text-align: right;\n",
       "    }\n",
       "</style>\n",
       "<table border=\"1\" class=\"dataframe\">\n",
       "  <thead>\n",
       "    <tr style=\"text-align: right;\">\n",
       "      <th></th>\n",
       "      <th>value_counts</th>\n",
       "      <th>kidns</th>\n",
       "    </tr>\n",
       "  </thead>\n",
       "  <tbody>\n",
       "    <tr>\n",
       "      <th>0</th>\n",
       "      <td>34568</td>\n",
       "      <td>less than 3 months</td>\n",
       "    </tr>\n",
       "    <tr>\n",
       "      <th>1</th>\n",
       "      <td>10710</td>\n",
       "      <td>3 months  6 months</td>\n",
       "    </tr>\n",
       "    <tr>\n",
       "      <th>2</th>\n",
       "      <td>6241</td>\n",
       "      <td>more than a year</td>\n",
       "    </tr>\n",
       "    <tr>\n",
       "      <th>3</th>\n",
       "      <td>4128</td>\n",
       "      <td>6 months  9 months</td>\n",
       "    </tr>\n",
       "    <tr>\n",
       "      <th>4</th>\n",
       "      <td>1609</td>\n",
       "      <td>9 months  1 year</td>\n",
       "    </tr>\n",
       "    <tr>\n",
       "      <th>5</th>\n",
       "      <td>234</td>\n",
       "      <td>45 days</td>\n",
       "    </tr>\n",
       "    <tr>\n",
       "      <th>6</th>\n",
       "      <td>156</td>\n",
       "      <td>being followed up</td>\n",
       "    </tr>\n",
       "    <tr>\n",
       "      <th>7</th>\n",
       "      <td>152</td>\n",
       "      <td>already touch with customers</td>\n",
       "    </tr>\n",
       "    <tr>\n",
       "      <th>8</th>\n",
       "      <td>135</td>\n",
       "      <td>etc</td>\n",
       "    </tr>\n",
       "    <tr>\n",
       "      <th>9</th>\n",
       "      <td>129</td>\n",
       "      <td>lessthan3months</td>\n",
       "    </tr>\n",
       "    <tr>\n",
       "      <th>10</th>\n",
       "      <td>114</td>\n",
       "      <td>less than 6 months</td>\n",
       "    </tr>\n",
       "    <tr>\n",
       "      <th>11</th>\n",
       "      <td>81</td>\n",
       "      <td>dropped have purchased cloudwalker</td>\n",
       "    </tr>\n",
       "    <tr>\n",
       "      <th>12</th>\n",
       "      <td>52</td>\n",
       "      <td>dropped requires device like one quick share t...</td>\n",
       "    </tr>\n",
       "    <tr>\n",
       "      <th>13</th>\n",
       "      <td>41</td>\n",
       "      <td>he want 65 inch at 50k</td>\n",
       "    </tr>\n",
       "    <tr>\n",
       "      <th>14</th>\n",
       "      <td>32</td>\n",
       "      <td>looking for outdoor display cusotmer has no cl...</td>\n",
       "    </tr>\n",
       "    <tr>\n",
       "      <th>15</th>\n",
       "      <td>27</td>\n",
       "      <td>client have seen the demo he needed for bigger...</td>\n",
       "    </tr>\n",
       "    <tr>\n",
       "      <th>16</th>\n",
       "      <td>23</td>\n",
       "      <td>the client is not having any requirement hence...</td>\n",
       "    </tr>\n",
       "    <tr>\n",
       "      <th>17</th>\n",
       "      <td>20</td>\n",
       "      <td>9months1year</td>\n",
       "    </tr>\n",
       "    <tr>\n",
       "      <th>18</th>\n",
       "      <td>20</td>\n",
       "      <td>no requirement</td>\n",
       "    </tr>\n",
       "    <tr>\n",
       "      <th>19</th>\n",
       "      <td>18</td>\n",
       "      <td>under discussion requirement not dinalised yet</td>\n",
       "    </tr>\n",
       "    <tr>\n",
       "      <th>20</th>\n",
       "      <td>18</td>\n",
       "      <td>concerned person not available will call later</td>\n",
       "    </tr>\n",
       "    <tr>\n",
       "      <th>21</th>\n",
       "      <td>16</td>\n",
       "      <td>3months6months</td>\n",
       "    </tr>\n",
       "    <tr>\n",
       "      <th>22</th>\n",
       "      <td>15</td>\n",
       "      <td>tried to reach him but no response i will call...</td>\n",
       "    </tr>\n",
       "    <tr>\n",
       "      <th>23</th>\n",
       "      <td>15</td>\n",
       "      <td>última revisión 260721</td>\n",
       "    </tr>\n",
       "    <tr>\n",
       "      <th>24</th>\n",
       "      <td>14</td>\n",
       "      <td>october 2022</td>\n",
       "    </tr>\n",
       "    <tr>\n",
       "      <th>25</th>\n",
       "      <td>13</td>\n",
       "      <td>not responding</td>\n",
       "    </tr>\n",
       "    <tr>\n",
       "      <th>26</th>\n",
       "      <td>13</td>\n",
       "      <td>november 2022</td>\n",
       "    </tr>\n",
       "    <tr>\n",
       "      <th>27</th>\n",
       "      <td>11</td>\n",
       "      <td>drop budget problem now phone not respondig</td>\n",
       "    </tr>\n",
       "    <tr>\n",
       "      <th>28</th>\n",
       "      <td>10</td>\n",
       "      <td>didnt respond</td>\n",
       "    </tr>\n",
       "    <tr>\n",
       "      <th>29</th>\n",
       "      <td>9</td>\n",
       "      <td>details shared</td>\n",
       "    </tr>\n",
       "  </tbody>\n",
       "</table>\n",
       "</div>"
      ],
      "text/plain": [
       "    value_counts                                              kidns\n",
       "0          34568                                 less than 3 months\n",
       "1          10710                                 3 months  6 months\n",
       "2           6241                                   more than a year\n",
       "3           4128                                 6 months  9 months\n",
       "4           1609                                   9 months  1 year\n",
       "5            234                                            45 days\n",
       "6            156                                  being followed up\n",
       "7            152                       already touch with customers\n",
       "8            135                                                etc\n",
       "9            129                                    lessthan3months\n",
       "10           114                                 less than 6 months\n",
       "11            81                 dropped have purchased cloudwalker\n",
       "12            52  dropped requires device like one quick share t...\n",
       "13            41                             he want 65 inch at 50k\n",
       "14            32  looking for outdoor display cusotmer has no cl...\n",
       "15            27  client have seen the demo he needed for bigger...\n",
       "16            23  the client is not having any requirement hence...\n",
       "17            20                                       9months1year\n",
       "18            20                                     no requirement\n",
       "19            18     under discussion requirement not dinalised yet\n",
       "20            18     concerned person not available will call later\n",
       "21            16                                     3months6months\n",
       "22            15  tried to reach him but no response i will call...\n",
       "23            15                             última revisión 260721\n",
       "24            14                                       october 2022\n",
       "25            13                                     not responding\n",
       "26            13                                      november 2022\n",
       "27            11        drop budget problem now phone not respondig\n",
       "28            10                                      didnt respond\n",
       "29             9                                     details shared"
      ]
     },
     "execution_count": 111,
     "metadata": {},
     "output_type": "execute_result"
    }
   ],
   "source": [
    "et = X['expected_timeline'].ffill().bfill().apply(lower_case).apply(remove_punctuation)\n",
    "et.loc[et.isin(et.value_counts().head(20).index)]\n",
    "\n",
    "new_df = pd.DataFrame({\n",
    "    \"value_counts\": et.value_counts().head(30).tolist(),\n",
    "    \"kidns\": et.value_counts().head(30).index.tolist()    \n",
    "})\n",
    "new_df"
   ]
  },
  {
   "cell_type": "markdown",
   "id": "cf668599",
   "metadata": {},
   "source": [
    "## Categorization Timeline"
   ]
  },
  {
   "cell_type": "code",
   "execution_count": 132,
   "id": "a31a01fe",
   "metadata": {},
   "outputs": [],
   "source": [
    "def categorize_timeline(text):\n",
    "    if 'less than 3 months' in text:\n",
    "        return '6 months'\n",
    "    \n",
    "    elif ('3 months' in text and '6 months' in text) or '3months6months' in text:\n",
    "        return '6 months'\n",
    "    \n",
    "    elif '6 months' in text and '9 months' in text:\n",
    "        return '1 year'\n",
    "    \n",
    "    elif ('9 months' in text and '1 year' in text) or '9months1year' in text:\n",
    "        return '1 year'\n",
    "    \n",
    "    elif 'more than a year' in text:\n",
    "        return 'over year'\n",
    "    \n",
    "    elif 'no requirement' in text or 'not' in text or 'no' in text:\n",
    "        return 'Other'\n",
    "    \n",
    "    else:\n",
    "        return 'Other'"
   ]
  },
  {
   "cell_type": "markdown",
   "id": "dae44076",
   "metadata": {},
   "source": [
    "## Preprocessing expected_timeline"
   ]
  },
  {
   "cell_type": "code",
   "execution_count": 137,
   "id": "236afd22",
   "metadata": {},
   "outputs": [],
   "source": [
    "def preprocessing_expected_timeline(df):\n",
    "    df = df['expected_timeline'].ffill().bfill().fillna(\"0\")\n",
    "    df = df.apply(lower_case).apply(remove_punctuation)\n",
    "    return df.apply(categorize_timeline)"
   ]
  },
  {
   "cell_type": "code",
   "execution_count": 140,
   "id": "27aefbc2",
   "metadata": {},
   "outputs": [
    {
     "data": {
      "text/plain": [
       "0         6 months\n",
       "1         6 months\n",
       "2         6 months\n",
       "3         6 months\n",
       "4         6 months\n",
       "           ...    \n",
       "59294     6 months\n",
       "59295       1 year\n",
       "59296     6 months\n",
       "59297    over year\n",
       "59298     6 months\n",
       "Name: expected_timeline, Length: 59299, dtype: object"
      ]
     },
     "execution_count": 140,
     "metadata": {},
     "output_type": "execute_result"
    }
   ],
   "source": [
    "X['expected_timeline'] = preprocessing_expected_timeline(X)\n",
    "X['expected_timeline']"
   ]
  }
 ],
 "metadata": {
  "kernelspec": {
   "display_name": "Python 3 (ipykernel)",
   "language": "python",
   "name": "python3"
  },
  "language_info": {
   "codemirror_mode": {
    "name": "ipython",
    "version": 3
   },
   "file_extension": ".py",
   "mimetype": "text/x-python",
   "name": "python",
   "nbconvert_exporter": "python",
   "pygments_lexer": "ipython3",
   "version": "3.11.5"
  }
 },
 "nbformat": 4,
 "nbformat_minor": 5
}
